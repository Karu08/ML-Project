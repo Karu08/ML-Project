{
  "cells": [
    {
      "cell_type": "code",
      "execution_count": null,
      "metadata": {
        "id": "cGgMOxIqBbC1"
      },
      "outputs": [],
      "source": [
        "import pandas as pd\n",
        "import matplotlib.pyplot as plt\n",
        "import seaborn as sns\n",
        "from sklearn.preprocessing import LabelEncoder\n",
        "from sklearn.model_selection import train_test_split\n",
        "from sklearn.preprocessing import StandardScaler\n",
        "from imblearn.over_sampling import SMOTE\n",
        "from sklearn.metrics import confusion_matrix\n",
        "from sklearn.metrics import classification_report"
      ]
    },
    {
      "cell_type": "code",
      "execution_count": null,
      "metadata": {
        "id": "Zw8b4xYvVLAG"
      },
      "outputs": [],
      "source": [
        "from sklearn.linear_model import LogisticRegression\n",
        "from sklearn.neighbors import KNeighborsClassifier\n",
        "from sklearn.svm import SVC\n",
        "from sklearn.tree import DecisionTreeClassifier\n",
        "from sklearn import tree\n",
        "from sklearn.ensemble import RandomForestClassifier\n",
        "from xgboost import XGBClassifier"
      ]
    },
    {
      "cell_type": "code",
      "execution_count": null,
      "metadata": {
        "id": "TPSOYtH0lCji"
      },
      "outputs": [],
      "source": [
        "from tensorflow import keras\n",
        "from tensorflow.keras import layers, callbacks"
      ]
    },
    {
      "cell_type": "code",
      "execution_count": null,
      "metadata": {
        "id": "igL7D6YTBIeA"
      },
      "outputs": [],
      "source": [
        "data = pd.read_csv(\"/content/heart_2020_cleaned[1].csv\")"
      ]
    },
    {
      "cell_type": "code",
      "execution_count": null,
      "metadata": {
        "colab": {
          "base_uri": "https://localhost:8080/",
          "height": 226
        },
        "id": "pcJIe1Xc-hAd",
        "outputId": "ed0c419b-c7ff-4be5-8880-8997088c48e8"
      },
      "outputs": [
        {
          "output_type": "execute_result",
          "data": {
            "text/plain": [
              "  HeartDisease    BMI Smoking AlcoholDrinking Stroke  PhysicalHealth  \\\n",
              "0           No  16.60     Yes              No     No             3.0   \n",
              "1           No  20.34      No              No    Yes             0.0   \n",
              "2           No  26.58     Yes              No     No            20.0   \n",
              "3           No  24.21      No              No     No             0.0   \n",
              "4           No  23.71      No              No     No            28.0   \n",
              "\n",
              "   MentalHealth DiffWalking     Sex  AgeCategory   Race Diabetic  \\\n",
              "0          30.0          No  Female        55-59  White      Yes   \n",
              "1           0.0          No  Female  80 or older  White       No   \n",
              "2          30.0          No    Male        65-69  White      Yes   \n",
              "3           0.0          No  Female        75-79  White       No   \n",
              "4           0.0         Yes  Female        40-44  White       No   \n",
              "\n",
              "  PhysicalActivity  GenHealth  SleepTime Asthma KidneyDisease SkinCancer  \n",
              "0              Yes  Very good        5.0    Yes            No        Yes  \n",
              "1              Yes  Very good        7.0     No            No         No  \n",
              "2              Yes       Fair        8.0    Yes            No         No  \n",
              "3               No       Good        6.0     No            No        Yes  \n",
              "4              Yes  Very good        8.0     No            No         No  "
            ],
            "text/html": [
              "\n",
              "  <div id=\"df-d35a842f-a891-4736-9887-ffe5c77be71b\" class=\"colab-df-container\">\n",
              "    <div>\n",
              "<style scoped>\n",
              "    .dataframe tbody tr th:only-of-type {\n",
              "        vertical-align: middle;\n",
              "    }\n",
              "\n",
              "    .dataframe tbody tr th {\n",
              "        vertical-align: top;\n",
              "    }\n",
              "\n",
              "    .dataframe thead th {\n",
              "        text-align: right;\n",
              "    }\n",
              "</style>\n",
              "<table border=\"1\" class=\"dataframe\">\n",
              "  <thead>\n",
              "    <tr style=\"text-align: right;\">\n",
              "      <th></th>\n",
              "      <th>HeartDisease</th>\n",
              "      <th>BMI</th>\n",
              "      <th>Smoking</th>\n",
              "      <th>AlcoholDrinking</th>\n",
              "      <th>Stroke</th>\n",
              "      <th>PhysicalHealth</th>\n",
              "      <th>MentalHealth</th>\n",
              "      <th>DiffWalking</th>\n",
              "      <th>Sex</th>\n",
              "      <th>AgeCategory</th>\n",
              "      <th>Race</th>\n",
              "      <th>Diabetic</th>\n",
              "      <th>PhysicalActivity</th>\n",
              "      <th>GenHealth</th>\n",
              "      <th>SleepTime</th>\n",
              "      <th>Asthma</th>\n",
              "      <th>KidneyDisease</th>\n",
              "      <th>SkinCancer</th>\n",
              "    </tr>\n",
              "  </thead>\n",
              "  <tbody>\n",
              "    <tr>\n",
              "      <th>0</th>\n",
              "      <td>No</td>\n",
              "      <td>16.60</td>\n",
              "      <td>Yes</td>\n",
              "      <td>No</td>\n",
              "      <td>No</td>\n",
              "      <td>3.0</td>\n",
              "      <td>30.0</td>\n",
              "      <td>No</td>\n",
              "      <td>Female</td>\n",
              "      <td>55-59</td>\n",
              "      <td>White</td>\n",
              "      <td>Yes</td>\n",
              "      <td>Yes</td>\n",
              "      <td>Very good</td>\n",
              "      <td>5.0</td>\n",
              "      <td>Yes</td>\n",
              "      <td>No</td>\n",
              "      <td>Yes</td>\n",
              "    </tr>\n",
              "    <tr>\n",
              "      <th>1</th>\n",
              "      <td>No</td>\n",
              "      <td>20.34</td>\n",
              "      <td>No</td>\n",
              "      <td>No</td>\n",
              "      <td>Yes</td>\n",
              "      <td>0.0</td>\n",
              "      <td>0.0</td>\n",
              "      <td>No</td>\n",
              "      <td>Female</td>\n",
              "      <td>80 or older</td>\n",
              "      <td>White</td>\n",
              "      <td>No</td>\n",
              "      <td>Yes</td>\n",
              "      <td>Very good</td>\n",
              "      <td>7.0</td>\n",
              "      <td>No</td>\n",
              "      <td>No</td>\n",
              "      <td>No</td>\n",
              "    </tr>\n",
              "    <tr>\n",
              "      <th>2</th>\n",
              "      <td>No</td>\n",
              "      <td>26.58</td>\n",
              "      <td>Yes</td>\n",
              "      <td>No</td>\n",
              "      <td>No</td>\n",
              "      <td>20.0</td>\n",
              "      <td>30.0</td>\n",
              "      <td>No</td>\n",
              "      <td>Male</td>\n",
              "      <td>65-69</td>\n",
              "      <td>White</td>\n",
              "      <td>Yes</td>\n",
              "      <td>Yes</td>\n",
              "      <td>Fair</td>\n",
              "      <td>8.0</td>\n",
              "      <td>Yes</td>\n",
              "      <td>No</td>\n",
              "      <td>No</td>\n",
              "    </tr>\n",
              "    <tr>\n",
              "      <th>3</th>\n",
              "      <td>No</td>\n",
              "      <td>24.21</td>\n",
              "      <td>No</td>\n",
              "      <td>No</td>\n",
              "      <td>No</td>\n",
              "      <td>0.0</td>\n",
              "      <td>0.0</td>\n",
              "      <td>No</td>\n",
              "      <td>Female</td>\n",
              "      <td>75-79</td>\n",
              "      <td>White</td>\n",
              "      <td>No</td>\n",
              "      <td>No</td>\n",
              "      <td>Good</td>\n",
              "      <td>6.0</td>\n",
              "      <td>No</td>\n",
              "      <td>No</td>\n",
              "      <td>Yes</td>\n",
              "    </tr>\n",
              "    <tr>\n",
              "      <th>4</th>\n",
              "      <td>No</td>\n",
              "      <td>23.71</td>\n",
              "      <td>No</td>\n",
              "      <td>No</td>\n",
              "      <td>No</td>\n",
              "      <td>28.0</td>\n",
              "      <td>0.0</td>\n",
              "      <td>Yes</td>\n",
              "      <td>Female</td>\n",
              "      <td>40-44</td>\n",
              "      <td>White</td>\n",
              "      <td>No</td>\n",
              "      <td>Yes</td>\n",
              "      <td>Very good</td>\n",
              "      <td>8.0</td>\n",
              "      <td>No</td>\n",
              "      <td>No</td>\n",
              "      <td>No</td>\n",
              "    </tr>\n",
              "  </tbody>\n",
              "</table>\n",
              "</div>\n",
              "    <div class=\"colab-df-buttons\">\n",
              "\n",
              "  <div class=\"colab-df-container\">\n",
              "    <button class=\"colab-df-convert\" onclick=\"convertToInteractive('df-d35a842f-a891-4736-9887-ffe5c77be71b')\"\n",
              "            title=\"Convert this dataframe to an interactive table.\"\n",
              "            style=\"display:none;\">\n",
              "\n",
              "  <svg xmlns=\"http://www.w3.org/2000/svg\" height=\"24px\" viewBox=\"0 -960 960 960\">\n",
              "    <path d=\"M120-120v-720h720v720H120Zm60-500h600v-160H180v160Zm220 220h160v-160H400v160Zm0 220h160v-160H400v160ZM180-400h160v-160H180v160Zm440 0h160v-160H620v160ZM180-180h160v-160H180v160Zm440 0h160v-160H620v160Z\"/>\n",
              "  </svg>\n",
              "    </button>\n",
              "\n",
              "  <style>\n",
              "    .colab-df-container {\n",
              "      display:flex;\n",
              "      gap: 12px;\n",
              "    }\n",
              "\n",
              "    .colab-df-convert {\n",
              "      background-color: #E8F0FE;\n",
              "      border: none;\n",
              "      border-radius: 50%;\n",
              "      cursor: pointer;\n",
              "      display: none;\n",
              "      fill: #1967D2;\n",
              "      height: 32px;\n",
              "      padding: 0 0 0 0;\n",
              "      width: 32px;\n",
              "    }\n",
              "\n",
              "    .colab-df-convert:hover {\n",
              "      background-color: #E2EBFA;\n",
              "      box-shadow: 0px 1px 2px rgba(60, 64, 67, 0.3), 0px 1px 3px 1px rgba(60, 64, 67, 0.15);\n",
              "      fill: #174EA6;\n",
              "    }\n",
              "\n",
              "    .colab-df-buttons div {\n",
              "      margin-bottom: 4px;\n",
              "    }\n",
              "\n",
              "    [theme=dark] .colab-df-convert {\n",
              "      background-color: #3B4455;\n",
              "      fill: #D2E3FC;\n",
              "    }\n",
              "\n",
              "    [theme=dark] .colab-df-convert:hover {\n",
              "      background-color: #434B5C;\n",
              "      box-shadow: 0px 1px 3px 1px rgba(0, 0, 0, 0.15);\n",
              "      filter: drop-shadow(0px 1px 2px rgba(0, 0, 0, 0.3));\n",
              "      fill: #FFFFFF;\n",
              "    }\n",
              "  </style>\n",
              "\n",
              "    <script>\n",
              "      const buttonEl =\n",
              "        document.querySelector('#df-d35a842f-a891-4736-9887-ffe5c77be71b button.colab-df-convert');\n",
              "      buttonEl.style.display =\n",
              "        google.colab.kernel.accessAllowed ? 'block' : 'none';\n",
              "\n",
              "      async function convertToInteractive(key) {\n",
              "        const element = document.querySelector('#df-d35a842f-a891-4736-9887-ffe5c77be71b');\n",
              "        const dataTable =\n",
              "          await google.colab.kernel.invokeFunction('convertToInteractive',\n",
              "                                                    [key], {});\n",
              "        if (!dataTable) return;\n",
              "\n",
              "        const docLinkHtml = 'Like what you see? Visit the ' +\n",
              "          '<a target=\"_blank\" href=https://colab.research.google.com/notebooks/data_table.ipynb>data table notebook</a>'\n",
              "          + ' to learn more about interactive tables.';\n",
              "        element.innerHTML = '';\n",
              "        dataTable['output_type'] = 'display_data';\n",
              "        await google.colab.output.renderOutput(dataTable, element);\n",
              "        const docLink = document.createElement('div');\n",
              "        docLink.innerHTML = docLinkHtml;\n",
              "        element.appendChild(docLink);\n",
              "      }\n",
              "    </script>\n",
              "  </div>\n",
              "\n",
              "\n",
              "<div id=\"df-1ad81e8f-d2db-4fe2-a806-35b899f963a9\">\n",
              "  <button class=\"colab-df-quickchart\" onclick=\"quickchart('df-1ad81e8f-d2db-4fe2-a806-35b899f963a9')\"\n",
              "            title=\"Suggest charts\"\n",
              "            style=\"display:none;\">\n",
              "\n",
              "<svg xmlns=\"http://www.w3.org/2000/svg\" height=\"24px\"viewBox=\"0 0 24 24\"\n",
              "     width=\"24px\">\n",
              "    <g>\n",
              "        <path d=\"M19 3H5c-1.1 0-2 .9-2 2v14c0 1.1.9 2 2 2h14c1.1 0 2-.9 2-2V5c0-1.1-.9-2-2-2zM9 17H7v-7h2v7zm4 0h-2V7h2v10zm4 0h-2v-4h2v4z\"/>\n",
              "    </g>\n",
              "</svg>\n",
              "  </button>\n",
              "\n",
              "<style>\n",
              "  .colab-df-quickchart {\n",
              "      --bg-color: #E8F0FE;\n",
              "      --fill-color: #1967D2;\n",
              "      --hover-bg-color: #E2EBFA;\n",
              "      --hover-fill-color: #174EA6;\n",
              "      --disabled-fill-color: #AAA;\n",
              "      --disabled-bg-color: #DDD;\n",
              "  }\n",
              "\n",
              "  [theme=dark] .colab-df-quickchart {\n",
              "      --bg-color: #3B4455;\n",
              "      --fill-color: #D2E3FC;\n",
              "      --hover-bg-color: #434B5C;\n",
              "      --hover-fill-color: #FFFFFF;\n",
              "      --disabled-bg-color: #3B4455;\n",
              "      --disabled-fill-color: #666;\n",
              "  }\n",
              "\n",
              "  .colab-df-quickchart {\n",
              "    background-color: var(--bg-color);\n",
              "    border: none;\n",
              "    border-radius: 50%;\n",
              "    cursor: pointer;\n",
              "    display: none;\n",
              "    fill: var(--fill-color);\n",
              "    height: 32px;\n",
              "    padding: 0;\n",
              "    width: 32px;\n",
              "  }\n",
              "\n",
              "  .colab-df-quickchart:hover {\n",
              "    background-color: var(--hover-bg-color);\n",
              "    box-shadow: 0 1px 2px rgba(60, 64, 67, 0.3), 0 1px 3px 1px rgba(60, 64, 67, 0.15);\n",
              "    fill: var(--button-hover-fill-color);\n",
              "  }\n",
              "\n",
              "  .colab-df-quickchart-complete:disabled,\n",
              "  .colab-df-quickchart-complete:disabled:hover {\n",
              "    background-color: var(--disabled-bg-color);\n",
              "    fill: var(--disabled-fill-color);\n",
              "    box-shadow: none;\n",
              "  }\n",
              "\n",
              "  .colab-df-spinner {\n",
              "    border: 2px solid var(--fill-color);\n",
              "    border-color: transparent;\n",
              "    border-bottom-color: var(--fill-color);\n",
              "    animation:\n",
              "      spin 1s steps(1) infinite;\n",
              "  }\n",
              "\n",
              "  @keyframes spin {\n",
              "    0% {\n",
              "      border-color: transparent;\n",
              "      border-bottom-color: var(--fill-color);\n",
              "      border-left-color: var(--fill-color);\n",
              "    }\n",
              "    20% {\n",
              "      border-color: transparent;\n",
              "      border-left-color: var(--fill-color);\n",
              "      border-top-color: var(--fill-color);\n",
              "    }\n",
              "    30% {\n",
              "      border-color: transparent;\n",
              "      border-left-color: var(--fill-color);\n",
              "      border-top-color: var(--fill-color);\n",
              "      border-right-color: var(--fill-color);\n",
              "    }\n",
              "    40% {\n",
              "      border-color: transparent;\n",
              "      border-right-color: var(--fill-color);\n",
              "      border-top-color: var(--fill-color);\n",
              "    }\n",
              "    60% {\n",
              "      border-color: transparent;\n",
              "      border-right-color: var(--fill-color);\n",
              "    }\n",
              "    80% {\n",
              "      border-color: transparent;\n",
              "      border-right-color: var(--fill-color);\n",
              "      border-bottom-color: var(--fill-color);\n",
              "    }\n",
              "    90% {\n",
              "      border-color: transparent;\n",
              "      border-bottom-color: var(--fill-color);\n",
              "    }\n",
              "  }\n",
              "</style>\n",
              "\n",
              "  <script>\n",
              "    async function quickchart(key) {\n",
              "      const quickchartButtonEl =\n",
              "        document.querySelector('#' + key + ' button');\n",
              "      quickchartButtonEl.disabled = true;  // To prevent multiple clicks.\n",
              "      quickchartButtonEl.classList.add('colab-df-spinner');\n",
              "      try {\n",
              "        const charts = await google.colab.kernel.invokeFunction(\n",
              "            'suggestCharts', [key], {});\n",
              "      } catch (error) {\n",
              "        console.error('Error during call to suggestCharts:', error);\n",
              "      }\n",
              "      quickchartButtonEl.classList.remove('colab-df-spinner');\n",
              "      quickchartButtonEl.classList.add('colab-df-quickchart-complete');\n",
              "    }\n",
              "    (() => {\n",
              "      let quickchartButtonEl =\n",
              "        document.querySelector('#df-1ad81e8f-d2db-4fe2-a806-35b899f963a9 button');\n",
              "      quickchartButtonEl.style.display =\n",
              "        google.colab.kernel.accessAllowed ? 'block' : 'none';\n",
              "    })();\n",
              "  </script>\n",
              "</div>\n",
              "\n",
              "    </div>\n",
              "  </div>\n"
            ],
            "application/vnd.google.colaboratory.intrinsic+json": {
              "type": "dataframe",
              "variable_name": "data"
            }
          },
          "metadata": {},
          "execution_count": 4
        }
      ],
      "source": [
        "data.head()"
      ]
    },
    {
      "cell_type": "code",
      "execution_count": null,
      "metadata": {
        "colab": {
          "base_uri": "https://localhost:8080/"
        },
        "id": "X90xtATi-4od",
        "outputId": "4acba409-4876-461e-9536-c716533a5cbc"
      },
      "outputs": [
        {
          "output_type": "execute_result",
          "data": {
            "text/plain": [
              "(319795, 18)"
            ]
          },
          "metadata": {},
          "execution_count": 5
        }
      ],
      "source": [
        "data.shape"
      ]
    },
    {
      "cell_type": "code",
      "execution_count": null,
      "metadata": {
        "colab": {
          "base_uri": "https://localhost:8080/"
        },
        "id": "nH30zFkU-lRG",
        "outputId": "b8582553-72eb-4f1d-f2cd-4870af24ca7c"
      },
      "outputs": [
        {
          "output_type": "stream",
          "name": "stdout",
          "text": [
            "<class 'pandas.core.frame.DataFrame'>\n",
            "RangeIndex: 319795 entries, 0 to 319794\n",
            "Data columns (total 18 columns):\n",
            " #   Column            Non-Null Count   Dtype  \n",
            "---  ------            --------------   -----  \n",
            " 0   HeartDisease      319795 non-null  object \n",
            " 1   BMI               319795 non-null  float64\n",
            " 2   Smoking           319795 non-null  object \n",
            " 3   AlcoholDrinking   319795 non-null  object \n",
            " 4   Stroke            319795 non-null  object \n",
            " 5   PhysicalHealth    319795 non-null  float64\n",
            " 6   MentalHealth      319795 non-null  float64\n",
            " 7   DiffWalking       319795 non-null  object \n",
            " 8   Sex               319795 non-null  object \n",
            " 9   AgeCategory       319795 non-null  object \n",
            " 10  Race              319795 non-null  object \n",
            " 11  Diabetic          319795 non-null  object \n",
            " 12  PhysicalActivity  319795 non-null  object \n",
            " 13  GenHealth         319795 non-null  object \n",
            " 14  SleepTime         319795 non-null  float64\n",
            " 15  Asthma            319795 non-null  object \n",
            " 16  KidneyDisease     319795 non-null  object \n",
            " 17  SkinCancer        319795 non-null  object \n",
            "dtypes: float64(4), object(14)\n",
            "memory usage: 43.9+ MB\n"
          ]
        }
      ],
      "source": [
        "data.info()"
      ]
    },
    {
      "cell_type": "code",
      "execution_count": null,
      "metadata": {
        "colab": {
          "base_uri": "https://localhost:8080/",
          "height": 648
        },
        "id": "v5jNs1Zy_mpY",
        "outputId": "a13f55d2-6d1f-4c39-eb8a-6c165d4b33e3"
      },
      "outputs": [
        {
          "output_type": "execute_result",
          "data": {
            "text/plain": [
              "HeartDisease        0\n",
              "BMI                 0\n",
              "Smoking             0\n",
              "AlcoholDrinking     0\n",
              "Stroke              0\n",
              "PhysicalHealth      0\n",
              "MentalHealth        0\n",
              "DiffWalking         0\n",
              "Sex                 0\n",
              "AgeCategory         0\n",
              "Race                0\n",
              "Diabetic            0\n",
              "PhysicalActivity    0\n",
              "GenHealth           0\n",
              "SleepTime           0\n",
              "Asthma              0\n",
              "KidneyDisease       0\n",
              "SkinCancer          0\n",
              "dtype: int64"
            ],
            "text/html": [
              "<div>\n",
              "<style scoped>\n",
              "    .dataframe tbody tr th:only-of-type {\n",
              "        vertical-align: middle;\n",
              "    }\n",
              "\n",
              "    .dataframe tbody tr th {\n",
              "        vertical-align: top;\n",
              "    }\n",
              "\n",
              "    .dataframe thead th {\n",
              "        text-align: right;\n",
              "    }\n",
              "</style>\n",
              "<table border=\"1\" class=\"dataframe\">\n",
              "  <thead>\n",
              "    <tr style=\"text-align: right;\">\n",
              "      <th></th>\n",
              "      <th>0</th>\n",
              "    </tr>\n",
              "  </thead>\n",
              "  <tbody>\n",
              "    <tr>\n",
              "      <th>HeartDisease</th>\n",
              "      <td>0</td>\n",
              "    </tr>\n",
              "    <tr>\n",
              "      <th>BMI</th>\n",
              "      <td>0</td>\n",
              "    </tr>\n",
              "    <tr>\n",
              "      <th>Smoking</th>\n",
              "      <td>0</td>\n",
              "    </tr>\n",
              "    <tr>\n",
              "      <th>AlcoholDrinking</th>\n",
              "      <td>0</td>\n",
              "    </tr>\n",
              "    <tr>\n",
              "      <th>Stroke</th>\n",
              "      <td>0</td>\n",
              "    </tr>\n",
              "    <tr>\n",
              "      <th>PhysicalHealth</th>\n",
              "      <td>0</td>\n",
              "    </tr>\n",
              "    <tr>\n",
              "      <th>MentalHealth</th>\n",
              "      <td>0</td>\n",
              "    </tr>\n",
              "    <tr>\n",
              "      <th>DiffWalking</th>\n",
              "      <td>0</td>\n",
              "    </tr>\n",
              "    <tr>\n",
              "      <th>Sex</th>\n",
              "      <td>0</td>\n",
              "    </tr>\n",
              "    <tr>\n",
              "      <th>AgeCategory</th>\n",
              "      <td>0</td>\n",
              "    </tr>\n",
              "    <tr>\n",
              "      <th>Race</th>\n",
              "      <td>0</td>\n",
              "    </tr>\n",
              "    <tr>\n",
              "      <th>Diabetic</th>\n",
              "      <td>0</td>\n",
              "    </tr>\n",
              "    <tr>\n",
              "      <th>PhysicalActivity</th>\n",
              "      <td>0</td>\n",
              "    </tr>\n",
              "    <tr>\n",
              "      <th>GenHealth</th>\n",
              "      <td>0</td>\n",
              "    </tr>\n",
              "    <tr>\n",
              "      <th>SleepTime</th>\n",
              "      <td>0</td>\n",
              "    </tr>\n",
              "    <tr>\n",
              "      <th>Asthma</th>\n",
              "      <td>0</td>\n",
              "    </tr>\n",
              "    <tr>\n",
              "      <th>KidneyDisease</th>\n",
              "      <td>0</td>\n",
              "    </tr>\n",
              "    <tr>\n",
              "      <th>SkinCancer</th>\n",
              "      <td>0</td>\n",
              "    </tr>\n",
              "  </tbody>\n",
              "</table>\n",
              "</div><br><label><b>dtype:</b> int64</label>"
            ]
          },
          "metadata": {},
          "execution_count": 7
        }
      ],
      "source": [
        "data.isnull().sum()"
      ]
    },
    {
      "cell_type": "code",
      "execution_count": null,
      "metadata": {
        "colab": {
          "base_uri": "https://localhost:8080/",
          "height": 593
        },
        "id": "3c9-j3eugrJc",
        "outputId": "3a7fcc41-fbd3-43de-a1bc-33305ee51616"
      },
      "outputs": [
        {
          "output_type": "stream",
          "name": "stdout",
          "text": [
            "HeartDisease\n",
            "No     292422\n",
            "Yes     27373\n",
            "Name: count, dtype: int64\n"
          ]
        },
        {
          "output_type": "stream",
          "name": "stderr",
          "text": [
            "<ipython-input-8-cb36ccc9d368>:5: FutureWarning: \n",
            "\n",
            "Passing `palette` without assigning `hue` is deprecated and will be removed in v0.14.0. Assign the `x` variable to `hue` and set `legend=False` for the same effect.\n",
            "\n",
            "  sns.barplot(x=count_values.index, y=count_values.values, palette=\"viridis\")\n"
          ]
        },
        {
          "output_type": "display_data",
          "data": {
            "text/plain": [
              "<Figure size 600x400 with 1 Axes>"
            ],
            "image/png": "[encoded data removed]"
          },
          "metadata": {}
        }
      ],
      "source": [
        "count_values = data['HeartDisease'].value_counts()\n",
        "print(count_values)\n",
        "\n",
        "plt.figure(figsize=(6, 4))\n",
        "sns.barplot(x=count_values.index, y=count_values.values, palette=\"viridis\")\n",
        "\n",
        "# Add labels and title\n",
        "plt.xlabel('Target Class (0 or 1)')\n",
        "plt.ylabel('Count')\n",
        "plt.title('Count of 0s and 1s in Target Column')\n",
        "\n",
        "# Show the plot\n",
        "plt.show()"
      ]
    },
    {
      "cell_type": "code",
      "execution_count": null,
      "metadata": {
        "colab": {
          "base_uri": "https://localhost:8080/",
          "height": 1000
        },
        "id": "1JKtCty0AjsV",
        "outputId": "5bda5926-1ed4-4a48-c3ac-91b289a7c0e0"
      },
      "outputs": [
        {
          "output_type": "execute_result",
          "data": {
            "text/plain": [
              "BMI                  Axes(0.125,0.11;0.168478x0.77)\n",
              "PhysicalHealth    Axes(0.327174,0.11;0.168478x0.77)\n",
              "MentalHealth      Axes(0.529348,0.11;0.168478x0.77)\n",
              "SleepTime         Axes(0.731522,0.11;0.168478x0.77)\n",
              "dtype: object"
            ],
            "text/html": [
              "<div>\n",
              "<style scoped>\n",
              "    .dataframe tbody tr th:only-of-type {\n",
              "        vertical-align: middle;\n",
              "    }\n",
              "\n",
              "    .dataframe tbody tr th {\n",
              "        vertical-align: top;\n",
              "    }\n",
              "\n",
              "    .dataframe thead th {\n",
              "        text-align: right;\n",
              "    }\n",
              "</style>\n",
              "<table border=\"1\" class=\"dataframe\">\n",
              "  <thead>\n",
              "    <tr style=\"text-align: right;\">\n",
              "      <th></th>\n",
              "      <th>0</th>\n",
              "    </tr>\n",
              "  </thead>\n",
              "  <tbody>\n",
              "    <tr>\n",
              "      <th>BMI</th>\n",
              "      <td>Axes(0.125,0.11;0.168478x0.77)</td>\n",
              "    </tr>\n",
              "    <tr>\n",
              "      <th>PhysicalHealth</th>\n",
              "      <td>Axes(0.327174,0.11;0.168478x0.77)</td>\n",
              "    </tr>\n",
              "    <tr>\n",
              "      <th>MentalHealth</th>\n",
              "      <td>Axes(0.529348,0.11;0.168478x0.77)</td>\n",
              "    </tr>\n",
              "    <tr>\n",
              "      <th>SleepTime</th>\n",
              "      <td>Axes(0.731522,0.11;0.168478x0.77)</td>\n",
              "    </tr>\n",
              "  </tbody>\n",
              "</table>\n",
              "</div><br><label><b>dtype:</b> object</label>"
            ]
          },
          "metadata": {},
          "execution_count": 9
        },
        {
          "output_type": "display_data",
          "data": {
            "text/plain": [
              "<Figure size 1000x1000 with 4 Axes>"
            ],
            "image/png": "[encoded data removed]"
          },
          "metadata": {}
        }
      ],
      "source": [
        "data.plot(kind = \"box\" , subplots = True , figsize = (10,10) )"
      ]
    },
    {
      "cell_type": "code",
      "execution_count": null,
      "metadata": {
        "colab": {
          "base_uri": "https://localhost:8080/"
        },
        "id": "hiuRikVpBruA",
        "outputId": "2ed358bc-d4eb-47d5-81bc-440e4185a487"
      },
      "outputs": [
        {
          "output_type": "execute_result",
          "data": {
            "text/plain": [
              "['HeartDisease',\n",
              " 'Smoking',\n",
              " 'AlcoholDrinking',\n",
              " 'Stroke',\n",
              " 'DiffWalking',\n",
              " 'Sex',\n",
              " 'AgeCategory',\n",
              " 'Race',\n",
              " 'Diabetic',\n",
              " 'PhysicalActivity',\n",
              " 'GenHealth',\n",
              " 'Asthma',\n",
              " 'KidneyDisease',\n",
              " 'SkinCancer']"
            ]
          },
          "metadata": {},
          "execution_count": 10
        }
      ],
      "source": [
        "lst = list(data.select_dtypes(\"object\").columns)\n",
        "lst"
      ]
    },
    {
      "cell_type": "code",
      "execution_count": null,
      "metadata": {
        "id": "7Iq06XvDhxM-"
      },
      "outputs": [],
      "source": [
        "for i in lst:\n",
        "    lb = LabelEncoder()\n",
        "    data[i] = lb.fit_transform(data[i])"
      ]
    },
    {
      "cell_type": "code",
      "execution_count": null,
      "metadata": {
        "colab": {
          "base_uri": "https://localhost:8080/"
        },
        "id": "9qKdfy7sh9jf",
        "outputId": "dd92f46d-5747-43b1-9708-fa5b2b2459d9"
      },
      "outputs": [
        {
          "output_type": "stream",
          "name": "stdout",
          "text": [
            "   HeartDisease    BMI  Smoking  AlcoholDrinking  Stroke  PhysicalHealth  \\\n",
            "0             0  16.60        1                0       0             3.0   \n",
            "1             0  20.34        0                0       1             0.0   \n",
            "2             0  26.58        1                0       0            20.0   \n",
            "3             0  24.21        0                0       0             0.0   \n",
            "4             0  23.71        0                0       0            28.0   \n",
            "\n",
            "   MentalHealth  DiffWalking  Sex  AgeCategory  Race  Diabetic  \\\n",
            "0          30.0            0    0            7     5         2   \n",
            "1           0.0            0    0           12     5         0   \n",
            "2          30.0            0    1            9     5         2   \n",
            "3           0.0            0    0           11     5         0   \n",
            "4           0.0            1    0            4     5         0   \n",
            "\n",
            "   PhysicalActivity  GenHealth  SleepTime  Asthma  KidneyDisease  SkinCancer  \n",
            "0                 1          4        5.0       1              0           1  \n",
            "1                 1          4        7.0       0              0           0  \n",
            "2                 1          1        8.0       1              0           0  \n",
            "3                 0          2        6.0       0              0           1  \n",
            "4                 1          4        8.0       0              0           0  \n"
          ]
        }
      ],
      "source": [
        "print(data.head())"
      ]
    },
    {
      "cell_type": "code",
      "execution_count": null,
      "metadata": {
        "colab": {
          "base_uri": "https://localhost:8080/",
          "height": 633
        },
        "id": "wAY1yHh8UDcN",
        "outputId": "5def7c03-4998-4496-d9e0-5d94b5430329"
      },
      "outputs": [
        {
          "output_type": "execute_result",
          "data": {
            "text/plain": [
              "<pandas.io.formats.style.Styler at 0x79019bed98d0>"
            ],
            "text/html": [
              "<style type=\"text/css\">\n",
              "#T_5ae22_row0_col0, #T_5ae22_row1_col1, #T_5ae22_row2_col2, #T_5ae22_row3_col3, #T_5ae22_row4_col4, #T_5ae22_row5_col5, #T_5ae22_row6_col6, #T_5ae22_row7_col7, #T_5ae22_row8_col8, #T_5ae22_row9_col9, #T_5ae22_row10_col10, #T_5ae22_row11_col11, #T_5ae22_row12_col12, #T_5ae22_row13_col13, #T_5ae22_row14_col14, #T_5ae22_row15_col15, #T_5ae22_row16_col16, #T_5ae22_row17_col17 {\n",
              "  background-color: #b40426;\n",
              "  color: #f1f1f1;\n",
              "}\n",
              "#T_5ae22_row0_col1, #T_5ae22_row3_col6, #T_5ae22_row17_col10 {\n",
              "  background-color: #7396f5;\n",
              "  color: #f1f1f1;\n",
              "}\n",
              "#T_5ae22_row0_col2, #T_5ae22_row6_col1, #T_5ae22_row13_col7, #T_5ae22_row15_col12 {\n",
              "  background-color: #7699f6;\n",
              "  color: #f1f1f1;\n",
              "}\n",
              "#T_5ae22_row0_col3, #T_5ae22_row3_col17, #T_5ae22_row12_col15 {\n",
              "  background-color: #4257c9;\n",
              "  color: #f1f1f1;\n",
              "}\n",
              "#T_5ae22_row0_col4, #T_5ae22_row8_col12 {\n",
              "  background-color: #8fb1fe;\n",
              "  color: #000000;\n",
              "}\n",
              "#T_5ae22_row0_col5 {\n",
              "  background-color: #a7c5fe;\n",
              "  color: #000000;\n",
              "}\n",
              "#T_5ae22_row0_col6, #T_5ae22_row4_col16, #T_5ae22_row13_col5, #T_5ae22_row16_col4 {\n",
              "  background-color: #6c8ff1;\n",
              "  color: #f1f1f1;\n",
              "}\n",
              "#T_5ae22_row0_col7, #T_5ae22_row11_col7 {\n",
              "  background-color: #b9d0f9;\n",
              "  color: #000000;\n",
              "}\n",
              "#T_5ae22_row0_col8, #T_5ae22_row4_col12, #T_5ae22_row8_col0, #T_5ae22_row8_col1, #T_5ae22_row8_col5, #T_5ae22_row16_col12 {\n",
              "  background-color: #6b8df0;\n",
              "  color: #f1f1f1;\n",
              "}\n",
              "#T_5ae22_row0_col9, #T_5ae22_row6_col7, #T_5ae22_row16_col7 {\n",
              "  background-color: #abc8fd;\n",
              "  color: #000000;\n",
              "}\n",
              "#T_5ae22_row0_col10, #T_5ae22_row3_col9, #T_5ae22_row3_col10, #T_5ae22_row9_col13, #T_5ae22_row14_col1, #T_5ae22_row14_col4, #T_5ae22_row14_col10, #T_5ae22_row15_col9, #T_5ae22_row16_col8 {\n",
              "  background-color: #5470de;\n",
              "  color: #f1f1f1;\n",
              "}\n",
              "#T_5ae22_row0_col11, #T_5ae22_row7_col6, #T_5ae22_row17_col7 {\n",
              "  background-color: #93b5fe;\n",
              "  color: #000000;\n",
              "}\n",
              "#T_5ae22_row0_col12, #T_5ae22_row1_col0, #T_5ae22_row10_col14, #T_5ae22_row11_col2, #T_5ae22_row14_col5 {\n",
              "  background-color: #6687ed;\n",
              "  color: #f1f1f1;\n",
              "}\n",
              "#T_5ae22_row0_col13, #T_5ae22_row7_col8, #T_5ae22_row9_col8, #T_5ae22_row12_col9, #T_5ae22_row14_col6, #T_5ae22_row15_col8, #T_5ae22_row16_col3 {\n",
              "  background-color: #4358cb;\n",
              "  color: #f1f1f1;\n",
              "}\n",
              "#T_5ae22_row0_col14, #T_5ae22_row1_col8, #T_5ae22_row6_col0, #T_5ae22_row6_col4 {\n",
              "  background-color: #5e7de7;\n",
              "  color: #f1f1f1;\n",
              "}\n",
              "#T_5ae22_row0_col15, #T_5ae22_row3_col14, #T_5ae22_row6_col3, #T_5ae22_row12_col10, #T_5ae22_row13_col14, #T_5ae22_row16_col15, #T_5ae22_row17_col1, #T_5ae22_row17_col8 {\n",
              "  background-color: #5a78e4;\n",
              "  color: #f1f1f1;\n",
              "}\n",
              "#T_5ae22_row0_col16, #T_5ae22_row2_col6, #T_5ae22_row4_col11, #T_5ae22_row5_col16, #T_5ae22_row11_col16 {\n",
              "  background-color: #7ea1fa;\n",
              "  color: #f1f1f1;\n",
              "}\n",
              "#T_5ae22_row0_col17, #T_5ae22_row1_col16, #T_5ae22_row9_col12, #T_5ae22_row10_col0, #T_5ae22_row10_col6 {\n",
              "  background-color: #6180e9;\n",
              "  color: #f1f1f1;\n",
              "}\n",
              "#T_5ae22_row1_col2, #T_5ae22_row2_col10, #T_5ae22_row6_col16, #T_5ae22_row11_col12, #T_5ae22_row11_col15, #T_5ae22_row12_col14, #T_5ae22_row15_col2, #T_5ae22_row15_col4, #T_5ae22_row15_col16, #T_5ae22_row16_col14 {\n",
              "  background-color: #5d7ce6;\n",
              "  color: #f1f1f1;\n",
              "}\n",
              "#T_5ae22_row1_col3, #T_5ae22_row7_col3, #T_5ae22_row14_col15 {\n",
              "  background-color: #4055c8;\n",
              "  color: #f1f1f1;\n",
              "}\n",
              "#T_5ae22_row1_col4, #T_5ae22_row8_col14, #T_5ae22_row10_col3, #T_5ae22_row10_col13, #T_5ae22_row16_col17 {\n",
              "  background-color: #5673e0;\n",
              "  color: #f1f1f1;\n",
              "}\n",
              "#T_5ae22_row1_col5, #T_5ae22_row9_col5 {\n",
              "  background-color: #97b8ff;\n",
              "  color: #000000;\n",
              "}\n",
              "#T_5ae22_row1_col6, #T_5ae22_row2_col0, #T_5ae22_row3_col2, #T_5ae22_row3_col7, #T_5ae22_row9_col16, #T_5ae22_row10_col5 {\n",
              "  background-color: #779af7;\n",
              "  color: #f1f1f1;\n",
              "}\n",
              "#T_5ae22_row1_col7, #T_5ae22_row17_col9 {\n",
              "  background-color: #b3cdfb;\n",
              "  color: #000000;\n",
              "}\n",
              "#T_5ae22_row1_col9, #T_5ae22_row2_col4, #T_5ae22_row13_col6, #T_5ae22_row17_col16 {\n",
              "  background-color: #6384eb;\n",
              "  color: #f1f1f1;\n",
              "}\n",
              "#T_5ae22_row1_col10 {\n",
              "  background-color: #3e51c5;\n",
              "  color: #f1f1f1;\n",
              "}\n",
              "#T_5ae22_row1_col11 {\n",
              "  background-color: #9dbdff;\n",
              "  color: #000000;\n",
              "}\n",
              "#T_5ae22_row1_col12, #T_5ae22_row4_col15, #T_5ae22_row10_col1, #T_5ae22_row14_col0 {\n",
              "  background-color: #5977e3;\n",
              "  color: #f1f1f1;\n",
              "}\n",
              "#T_5ae22_row1_col13, #T_5ae22_row8_col9, #T_5ae22_row14_col8 {\n",
              "  background-color: #516ddb;\n",
              "  color: #f1f1f1;\n",
              "}\n",
              "#T_5ae22_row1_col14, #T_5ae22_row2_col13, #T_5ae22_row3_col0, #T_5ae22_row8_col3, #T_5ae22_row14_col2, #T_5ae22_row17_col13 {\n",
              "  background-color: #4c66d6;\n",
              "  color: #f1f1f1;\n",
              "}\n",
              "#T_5ae22_row1_col15, #T_5ae22_row2_col1 {\n",
              "  background-color: #6a8bef;\n",
              "  color: #f1f1f1;\n",
              "}\n",
              "#T_5ae22_row1_col17, #T_5ae22_row6_col8, #T_5ae22_row6_col9, #T_5ae22_row6_col14, #T_5ae22_row6_col17, #T_5ae22_row7_col12, #T_5ae22_row7_col13, #T_5ae22_row8_col15, #T_5ae22_row9_col3, #T_5ae22_row9_col6, #T_5ae22_row11_col3, #T_5ae22_row11_col10, #T_5ae22_row12_col0, #T_5ae22_row12_col1, #T_5ae22_row12_col2, #T_5ae22_row12_col4, #T_5ae22_row12_col5, #T_5ae22_row12_col7, #T_5ae22_row12_col11, #T_5ae22_row12_col16 {\n",
              "  background-color: #3b4cc0;\n",
              "  color: #f1f1f1;\n",
              "}\n",
              "#T_5ae22_row2_col3, #T_5ae22_row7_col15, #T_5ae22_row8_col7, #T_5ae22_row10_col17, #T_5ae22_row11_col6, #T_5ae22_row13_col1, #T_5ae22_row15_col11 {\n",
              "  background-color: #6e90f2;\n",
              "  color: #f1f1f1;\n",
              "}\n",
              "#T_5ae22_row2_col5, #T_5ae22_row15_col5 {\n",
              "  background-color: #98b9ff;\n",
              "  color: #000000;\n",
              "}\n",
              "#T_5ae22_row2_col7, #T_5ae22_row11_col5 {\n",
              "  background-color: #a2c1ff;\n",
              "  color: #000000;\n",
              "}\n",
              "#T_5ae22_row2_col8, #T_5ae22_row6_col15 {\n",
              "  background-color: #7093f3;\n",
              "  color: #f1f1f1;\n",
              "}\n",
              "#T_5ae22_row2_col9, #T_5ae22_row11_col0, #T_5ae22_row16_col11 {\n",
              "  background-color: #8badfd;\n",
              "  color: #000000;\n",
              "}\n",
              "#T_5ae22_row2_col11, #T_5ae22_row6_col2, #T_5ae22_row8_col2, #T_5ae22_row11_col4, #T_5ae22_row16_col6 {\n",
              "  background-color: #6f92f3;\n",
              "  color: #f1f1f1;\n",
              "}\n",
              "#T_5ae22_row2_col12, #T_5ae22_row4_col2, #T_5ae22_row6_col12, #T_5ae22_row17_col14 {\n",
              "  background-color: #6788ee;\n",
              "  color: #f1f1f1;\n",
              "}\n",
              "#T_5ae22_row2_col14, #T_5ae22_row4_col17, #T_5ae22_row10_col16, #T_5ae22_row11_col8, #T_5ae22_row13_col0, #T_5ae22_row13_col8, #T_5ae22_row14_col16 {\n",
              "  background-color: #536edd;\n",
              "  color: #f1f1f1;\n",
              "}\n",
              "#T_5ae22_row2_col15, #T_5ae22_row4_col8, #T_5ae22_row7_col14 {\n",
              "  background-color: #5572df;\n",
              "  color: #f1f1f1;\n",
              "}\n",
              "#T_5ae22_row2_col16, #T_5ae22_row8_col11, #T_5ae22_row10_col8, #T_5ae22_row11_col14, #T_5ae22_row13_col2, #T_5ae22_row13_col11, #T_5ae22_row17_col6 {\n",
              "  background-color: #5b7ae5;\n",
              "  color: #f1f1f1;\n",
              "}\n",
              "#T_5ae22_row2_col17, #T_5ae22_row3_col15, #T_5ae22_row11_col17, #T_5ae22_row12_col13, #T_5ae22_row13_col4, #T_5ae22_row13_col16, #T_5ae22_row15_col14, #T_5ae22_row17_col15 {\n",
              "  background-color: #4e68d8;\n",
              "  color: #f1f1f1;\n",
              "}\n",
              "#T_5ae22_row3_col1, #T_5ae22_row3_col8, #T_5ae22_row7_col17, #T_5ae22_row13_col10 {\n",
              "  background-color: #5875e1;\n",
              "  color: #f1f1f1;\n",
              "}\n",
              "#T_5ae22_row3_col4, #T_5ae22_row13_col3 {\n",
              "  background-color: #4b64d5;\n",
              "  color: #f1f1f1;\n",
              "}\n",
              "#T_5ae22_row3_col5, #T_5ae22_row4_col6, #T_5ae22_row5_col15, #T_5ae22_row13_col9, #T_5ae22_row16_col1, #T_5ae22_row17_col0 {\n",
              "  background-color: #7295f4;\n",
              "  color: #f1f1f1;\n",
              "}\n",
              "#T_5ae22_row3_col11, #T_5ae22_row8_col10, #T_5ae22_row8_col16, #T_5ae22_row10_col4 {\n",
              "  background-color: #4f69d9;\n",
              "  color: #f1f1f1;\n",
              "}\n",
              "#T_5ae22_row3_col12, #T_5ae22_row15_col6 {\n",
              "  background-color: #86a9fc;\n",
              "  color: #f1f1f1;\n",
              "}\n",
              "#T_5ae22_row3_col13, #T_5ae22_row4_col10, #T_5ae22_row8_col17 {\n",
              "  background-color: #485fd1;\n",
              "  color: #f1f1f1;\n",
              "}\n",
              "#T_5ae22_row3_col16, #T_5ae22_row5_col10, #T_5ae22_row8_col6, #T_5ae22_row10_col15, #T_5ae22_row15_col13 {\n",
              "  background-color: #4961d2;\n",
              "  color: #f1f1f1;\n",
              "}\n",
              "#T_5ae22_row4_col0 {\n",
              "  background-color: #94b6ff;\n",
              "  color: #000000;\n",
              "}\n",
              "#T_5ae22_row4_col1, #T_5ae22_row6_col11, #T_5ae22_row10_col2, #T_5ae22_row17_col11 {\n",
              "  background-color: #688aef;\n",
              "  color: #f1f1f1;\n",
              "}\n",
              "#T_5ae22_row4_col3, #T_5ae22_row5_col12, #T_5ae22_row6_col10, #T_5ae22_row6_col13, #T_5ae22_row14_col13 {\n",
              "  background-color: #455cce;\n",
              "  color: #f1f1f1;\n",
              "}\n",
              "#T_5ae22_row4_col5, #T_5ae22_row7_col11, #T_5ae22_row15_col7 {\n",
              "  background-color: #9ebeff;\n",
              "  color: #000000;\n",
              "}\n",
              "#T_5ae22_row4_col7 {\n",
              "  background-color: #b1cbfc;\n",
              "  color: #000000;\n",
              "}\n",
              "#T_5ae22_row4_col9, #T_5ae22_row5_col11 {\n",
              "  background-color: #8db0fe;\n",
              "  color: #000000;\n",
              "}\n",
              "#T_5ae22_row4_col13, #T_5ae22_row7_col10, #T_5ae22_row8_col13, #T_5ae22_row11_col13, #T_5ae22_row12_col17, #T_5ae22_row15_col10, #T_5ae22_row15_col17, #T_5ae22_row16_col13 {\n",
              "  background-color: #445acc;\n",
              "  color: #f1f1f1;\n",
              "}\n",
              "#T_5ae22_row4_col14, #T_5ae22_row14_col11, #T_5ae22_row16_col2, #T_5ae22_row17_col2, #T_5ae22_row17_col4 {\n",
              "  background-color: #5f7fe8;\n",
              "  color: #f1f1f1;\n",
              "}\n",
              "#T_5ae22_row5_col0 {\n",
              "  background-color: #8caffe;\n",
              "  color: #000000;\n",
              "}\n",
              "#T_5ae22_row5_col1, #T_5ae22_row14_col9, #T_5ae22_row16_col0 {\n",
              "  background-color: #84a7fc;\n",
              "  color: #f1f1f1;\n",
              "}\n",
              "#T_5ae22_row5_col2 {\n",
              "  background-color: #799cf8;\n",
              "  color: #f1f1f1;\n",
              "}\n",
              "#T_5ae22_row5_col3 {\n",
              "  background-color: #465ecf;\n",
              "  color: #f1f1f1;\n",
              "}\n",
              "#T_5ae22_row5_col4, #T_5ae22_row9_col4, #T_5ae22_row9_col14, #T_5ae22_row14_col7 {\n",
              "  background-color: #7b9ff9;\n",
              "  color: #f1f1f1;\n",
              "}\n",
              "#T_5ae22_row5_col6 {\n",
              "  background-color: #bbd1f8;\n",
              "  color: #000000;\n",
              "}\n",
              "#T_5ae22_row5_col7 {\n",
              "  background-color: #ead5c9;\n",
              "  color: #000000;\n",
              "}\n",
              "#T_5ae22_row5_col8, #T_5ae22_row5_col14, #T_5ae22_row12_col6, #T_5ae22_row13_col17, #T_5ae22_row14_col3, #T_5ae22_row15_col3, #T_5ae22_row16_col10, #T_5ae22_row17_col3 {\n",
              "  background-color: #4a63d3;\n",
              "  color: #f1f1f1;\n",
              "}\n",
              "#T_5ae22_row5_col9 {\n",
              "  background-color: #85a8fc;\n",
              "  color: #f1f1f1;\n",
              "}\n",
              "#T_5ae22_row5_col13 {\n",
              "  background-color: #3c4ec2;\n",
              "  color: #f1f1f1;\n",
              "}\n",
              "#T_5ae22_row5_col17, #T_5ae22_row8_col4, #T_5ae22_row10_col11, #T_5ae22_row12_col3, #T_5ae22_row13_col15, #T_5ae22_row14_col17 {\n",
              "  background-color: #506bda;\n",
              "  color: #f1f1f1;\n",
              "}\n",
              "#T_5ae22_row6_col5 {\n",
              "  background-color: #c7d7f0;\n",
              "  color: #000000;\n",
              "}\n",
              "#T_5ae22_row7_col0, #T_5ae22_row10_col9 {\n",
              "  background-color: #96b7ff;\n",
              "  color: #000000;\n",
              "}\n",
              "#T_5ae22_row7_col1, #T_5ae22_row9_col11, #T_5ae22_row9_col17 {\n",
              "  background-color: #9abbff;\n",
              "  color: #000000;\n",
              "}\n",
              "#T_5ae22_row7_col2 {\n",
              "  background-color: #7a9df8;\n",
              "  color: #f1f1f1;\n",
              "}\n",
              "#T_5ae22_row7_col4, #T_5ae22_row13_col12 {\n",
              "  background-color: #88abfd;\n",
              "  color: #000000;\n",
              "}\n",
              "#T_5ae22_row7_col5 {\n",
              "  background-color: #e6d7cf;\n",
              "  color: #000000;\n",
              "}\n",
              "#T_5ae22_row7_col9 {\n",
              "  background-color: #aec9fc;\n",
              "  color: #000000;\n",
              "}\n",
              "#T_5ae22_row7_col16, #T_5ae22_row17_col12 {\n",
              "  background-color: #81a4fb;\n",
              "  color: #f1f1f1;\n",
              "}\n",
              "#T_5ae22_row9_col0, #T_5ae22_row11_col9, #T_5ae22_row16_col5 {\n",
              "  background-color: #9fbfff;\n",
              "  color: #000000;\n",
              "}\n",
              "#T_5ae22_row9_col1, #T_5ae22_row15_col0 {\n",
              "  background-color: #6282ea;\n",
              "  color: #f1f1f1;\n",
              "}\n",
              "#T_5ae22_row9_col2, #T_5ae22_row9_col10, #T_5ae22_row10_col7 {\n",
              "  background-color: #7da0f9;\n",
              "  color: #f1f1f1;\n",
              "}\n",
              "#T_5ae22_row9_col7 {\n",
              "  background-color: #c3d5f4;\n",
              "  color: #000000;\n",
              "}\n",
              "#T_5ae22_row9_col15 {\n",
              "  background-color: #3d50c3;\n",
              "  color: #f1f1f1;\n",
              "}\n",
              "#T_5ae22_row10_col12 {\n",
              "  background-color: #92b4fe;\n",
              "  color: #000000;\n",
              "}\n",
              "#T_5ae22_row11_col1 {\n",
              "  background-color: #a1c0ff;\n",
              "  color: #000000;\n",
              "}\n",
              "#T_5ae22_row12_col8 {\n",
              "  background-color: #6485ec;\n",
              "  color: #f1f1f1;\n",
              "}\n",
              "#T_5ae22_row14_col12, #T_5ae22_row17_col5 {\n",
              "  background-color: #82a6fb;\n",
              "  color: #f1f1f1;\n",
              "}\n",
              "#T_5ae22_row15_col1 {\n",
              "  background-color: #80a3fa;\n",
              "  color: #f1f1f1;\n",
              "}\n",
              "#T_5ae22_row16_col9 {\n",
              "  background-color: #89acfd;\n",
              "  color: #000000;\n",
              "}\n",
              "</style>\n",
              "<table id=\"T_5ae22\" class=\"dataframe\">\n",
              "  <thead>\n",
              "    <tr>\n",
              "      <th class=\"blank level0\" >&nbsp;</th>\n",
              "      <th id=\"T_5ae22_level0_col0\" class=\"col_heading level0 col0\" >HeartDisease</th>\n",
              "      <th id=\"T_5ae22_level0_col1\" class=\"col_heading level0 col1\" >BMI</th>\n",
              "      <th id=\"T_5ae22_level0_col2\" class=\"col_heading level0 col2\" >Smoking</th>\n",
              "      <th id=\"T_5ae22_level0_col3\" class=\"col_heading level0 col3\" >AlcoholDrinking</th>\n",
              "      <th id=\"T_5ae22_level0_col4\" class=\"col_heading level0 col4\" >Stroke</th>\n",
              "      <th id=\"T_5ae22_level0_col5\" class=\"col_heading level0 col5\" >PhysicalHealth</th>\n",
              "      <th id=\"T_5ae22_level0_col6\" class=\"col_heading level0 col6\" >MentalHealth</th>\n",
              "      <th id=\"T_5ae22_level0_col7\" class=\"col_heading level0 col7\" >DiffWalking</th>\n",
              "      <th id=\"T_5ae22_level0_col8\" class=\"col_heading level0 col8\" >Sex</th>\n",
              "      <th id=\"T_5ae22_level0_col9\" class=\"col_heading level0 col9\" >AgeCategory</th>\n",
              "      <th id=\"T_5ae22_level0_col10\" class=\"col_heading level0 col10\" >Race</th>\n",
              "      <th id=\"T_5ae22_level0_col11\" class=\"col_heading level0 col11\" >Diabetic</th>\n",
              "      <th id=\"T_5ae22_level0_col12\" class=\"col_heading level0 col12\" >PhysicalActivity</th>\n",
              "      <th id=\"T_5ae22_level0_col13\" class=\"col_heading level0 col13\" >GenHealth</th>\n",
              "      <th id=\"T_5ae22_level0_col14\" class=\"col_heading level0 col14\" >SleepTime</th>\n",
              "      <th id=\"T_5ae22_level0_col15\" class=\"col_heading level0 col15\" >Asthma</th>\n",
              "      <th id=\"T_5ae22_level0_col16\" class=\"col_heading level0 col16\" >KidneyDisease</th>\n",
              "      <th id=\"T_5ae22_level0_col17\" class=\"col_heading level0 col17\" >SkinCancer</th>\n",
              "    </tr>\n",
              "  </thead>\n",
              "  <tbody>\n",
              "    <tr>\n",
              "      <th id=\"T_5ae22_level0_row0\" class=\"row_heading level0 row0\" >HeartDisease</th>\n",
              "      <td id=\"T_5ae22_row0_col0\" class=\"data row0 col0\" >1.000000</td>\n",
              "      <td id=\"T_5ae22_row0_col1\" class=\"data row0 col1\" >0.051803</td>\n",
              "      <td id=\"T_5ae22_row0_col2\" class=\"data row0 col2\" >0.107764</td>\n",
              "      <td id=\"T_5ae22_row0_col3\" class=\"data row0 col3\" >-0.032080</td>\n",
              "      <td id=\"T_5ae22_row0_col4\" class=\"data row0 col4\" >0.196835</td>\n",
              "      <td id=\"T_5ae22_row0_col5\" class=\"data row0 col5\" >0.170721</td>\n",
              "      <td id=\"T_5ae22_row0_col6\" class=\"data row0 col6\" >0.028591</td>\n",
              "      <td id=\"T_5ae22_row0_col7\" class=\"data row0 col7\" >0.201258</td>\n",
              "      <td id=\"T_5ae22_row0_col8\" class=\"data row0 col8\" >0.070040</td>\n",
              "      <td id=\"T_5ae22_row0_col9\" class=\"data row0 col9\" >0.233432</td>\n",
              "      <td id=\"T_5ae22_row0_col10\" class=\"data row0 col10\" >0.034854</td>\n",
              "      <td id=\"T_5ae22_row0_col11\" class=\"data row0 col11\" >0.168553</td>\n",
              "      <td id=\"T_5ae22_row0_col12\" class=\"data row0 col12\" >-0.100030</td>\n",
              "      <td id=\"T_5ae22_row0_col13\" class=\"data row0 col13\" >-0.011062</td>\n",
              "      <td id=\"T_5ae22_row0_col14\" class=\"data row0 col14\" >0.008327</td>\n",
              "      <td id=\"T_5ae22_row0_col15\" class=\"data row0 col15\" >0.041444</td>\n",
              "      <td id=\"T_5ae22_row0_col16\" class=\"data row0 col16\" >0.145197</td>\n",
              "      <td id=\"T_5ae22_row0_col17\" class=\"data row0 col17\" >0.093317</td>\n",
              "    </tr>\n",
              "    <tr>\n",
              "      <th id=\"T_5ae22_level0_row1\" class=\"row_heading level0 row1\" >BMI</th>\n",
              "      <td id=\"T_5ae22_row1_col0\" class=\"data row1 col0\" >0.051803</td>\n",
              "      <td id=\"T_5ae22_row1_col1\" class=\"data row1 col1\" >1.000000</td>\n",
              "      <td id=\"T_5ae22_row1_col2\" class=\"data row1 col2\" >0.023118</td>\n",
              "      <td id=\"T_5ae22_row1_col3\" class=\"data row1 col3\" >-0.038816</td>\n",
              "      <td id=\"T_5ae22_row1_col4\" class=\"data row1 col4\" >0.019733</td>\n",
              "      <td id=\"T_5ae22_row1_col5\" class=\"data row1 col5\" >0.109788</td>\n",
              "      <td id=\"T_5ae22_row1_col6\" class=\"data row1 col6\" >0.064131</td>\n",
              "      <td id=\"T_5ae22_row1_col7\" class=\"data row1 col7\" >0.181678</td>\n",
              "      <td id=\"T_5ae22_row1_col8\" class=\"data row1 col8\" >0.026940</td>\n",
              "      <td id=\"T_5ae22_row1_col9\" class=\"data row1 col9\" >-0.004744</td>\n",
              "      <td id=\"T_5ae22_row1_col10\" class=\"data row1 col10\" >-0.037424</td>\n",
              "      <td id=\"T_5ae22_row1_col11\" class=\"data row1 col11\" >0.202472</td>\n",
              "      <td id=\"T_5ae22_row1_col12\" class=\"data row1 col12\" >-0.150616</td>\n",
              "      <td id=\"T_5ae22_row1_col13\" class=\"data row1 col13\" >0.035932</td>\n",
              "      <td id=\"T_5ae22_row1_col14\" class=\"data row1 col14\" >-0.051822</td>\n",
              "      <td id=\"T_5ae22_row1_col15\" class=\"data row1 col15\" >0.092345</td>\n",
              "      <td id=\"T_5ae22_row1_col16\" class=\"data row1 col16\" >0.050768</td>\n",
              "      <td id=\"T_5ae22_row1_col17\" class=\"data row1 col17\" >-0.033644</td>\n",
              "    </tr>\n",
              "    <tr>\n",
              "      <th id=\"T_5ae22_level0_row2\" class=\"row_heading level0 row2\" >Smoking</th>\n",
              "      <td id=\"T_5ae22_row2_col0\" class=\"data row2 col0\" >0.107764</td>\n",
              "      <td id=\"T_5ae22_row2_col1\" class=\"data row2 col1\" >0.023118</td>\n",
              "      <td id=\"T_5ae22_row2_col2\" class=\"data row2 col2\" >1.000000</td>\n",
              "      <td id=\"T_5ae22_row2_col3\" class=\"data row2 col3\" >0.111768</td>\n",
              "      <td id=\"T_5ae22_row2_col4\" class=\"data row2 col4\" >0.061226</td>\n",
              "      <td id=\"T_5ae22_row2_col5\" class=\"data row2 col5\" >0.115352</td>\n",
              "      <td id=\"T_5ae22_row2_col6\" class=\"data row2 col6\" >0.085157</td>\n",
              "      <td id=\"T_5ae22_row2_col7\" class=\"data row2 col7\" >0.120074</td>\n",
              "      <td id=\"T_5ae22_row2_col8\" class=\"data row2 col8\" >0.085052</td>\n",
              "      <td id=\"T_5ae22_row2_col9\" class=\"data row2 col9\" >0.128331</td>\n",
              "      <td id=\"T_5ae22_row2_col10\" class=\"data row2 col10\" >0.065499</td>\n",
              "      <td id=\"T_5ae22_row2_col11\" class=\"data row2 col11\" >0.053847</td>\n",
              "      <td id=\"T_5ae22_row2_col12\" class=\"data row2 col12\" >-0.097174</td>\n",
              "      <td id=\"T_5ae22_row2_col13\" class=\"data row2 col13\" >0.020625</td>\n",
              "      <td id=\"T_5ae22_row2_col14\" class=\"data row2 col14\" >-0.030336</td>\n",
              "      <td id=\"T_5ae22_row2_col15\" class=\"data row2 col15\" >0.024149</td>\n",
              "      <td id=\"T_5ae22_row2_col16\" class=\"data row2 col16\" >0.034920</td>\n",
              "      <td id=\"T_5ae22_row2_col17\" class=\"data row2 col17\" >0.033977</td>\n",
              "    </tr>\n",
              "    <tr>\n",
              "      <th id=\"T_5ae22_level0_row3\" class=\"row_heading level0 row3\" >AlcoholDrinking</th>\n",
              "      <td id=\"T_5ae22_row3_col0\" class=\"data row3 col0\" >-0.032080</td>\n",
              "      <td id=\"T_5ae22_row3_col1\" class=\"data row3 col1\" >-0.038816</td>\n",
              "      <td id=\"T_5ae22_row3_col2\" class=\"data row3 col2\" >0.111768</td>\n",
              "      <td id=\"T_5ae22_row3_col3\" class=\"data row3 col3\" >1.000000</td>\n",
              "      <td id=\"T_5ae22_row3_col4\" class=\"data row3 col4\" >-0.019858</td>\n",
              "      <td id=\"T_5ae22_row3_col5\" class=\"data row3 col5\" >-0.017254</td>\n",
              "      <td id=\"T_5ae22_row3_col6\" class=\"data row3 col6\" >0.051282</td>\n",
              "      <td id=\"T_5ae22_row3_col7\" class=\"data row3 col7\" >-0.035328</td>\n",
              "      <td id=\"T_5ae22_row3_col8\" class=\"data row3 col8\" >0.004200</td>\n",
              "      <td id=\"T_5ae22_row3_col9\" class=\"data row3 col9\" >-0.059528</td>\n",
              "      <td id=\"T_5ae22_row3_col10\" class=\"data row3 col10\" >0.036702</td>\n",
              "      <td id=\"T_5ae22_row3_col11\" class=\"data row3 col11\" >-0.057372</td>\n",
              "      <td id=\"T_5ae22_row3_col12\" class=\"data row3 col12\" >0.017487</td>\n",
              "      <td id=\"T_5ae22_row3_col13\" class=\"data row3 col13\" >0.001629</td>\n",
              "      <td id=\"T_5ae22_row3_col14\" class=\"data row3 col14\" >-0.005065</td>\n",
              "      <td id=\"T_5ae22_row3_col15\" class=\"data row3 col15\" >-0.002202</td>\n",
              "      <td id=\"T_5ae22_row3_col16\" class=\"data row3 col16\" >-0.028280</td>\n",
              "      <td id=\"T_5ae22_row3_col17\" class=\"data row3 col17\" >-0.005702</td>\n",
              "    </tr>\n",
              "    <tr>\n",
              "      <th id=\"T_5ae22_level0_row4\" class=\"row_heading level0 row4\" >Stroke</th>\n",
              "      <td id=\"T_5ae22_row4_col0\" class=\"data row4 col0\" >0.196835</td>\n",
              "      <td id=\"T_5ae22_row4_col1\" class=\"data row4 col1\" >0.019733</td>\n",
              "      <td id=\"T_5ae22_row4_col2\" class=\"data row4 col2\" >0.061226</td>\n",
              "      <td id=\"T_5ae22_row4_col3\" class=\"data row4 col3\" >-0.019858</td>\n",
              "      <td id=\"T_5ae22_row4_col4\" class=\"data row4 col4\" >1.000000</td>\n",
              "      <td id=\"T_5ae22_row4_col5\" class=\"data row4 col5\" >0.137014</td>\n",
              "      <td id=\"T_5ae22_row4_col6\" class=\"data row4 col6\" >0.046467</td>\n",
              "      <td id=\"T_5ae22_row4_col7\" class=\"data row4 col7\" >0.174143</td>\n",
              "      <td id=\"T_5ae22_row4_col8\" class=\"data row4 col8\" >-0.003091</td>\n",
              "      <td id=\"T_5ae22_row4_col9\" class=\"data row4 col9\" >0.137822</td>\n",
              "      <td id=\"T_5ae22_row4_col10\" class=\"data row4 col10\" >-0.003956</td>\n",
              "      <td id=\"T_5ae22_row4_col11\" class=\"data row4 col11\" >0.101518</td>\n",
              "      <td id=\"T_5ae22_row4_col12\" class=\"data row4 col12\" >-0.079455</td>\n",
              "      <td id=\"T_5ae22_row4_col13\" class=\"data row4 col13\" >-0.009335</td>\n",
              "      <td id=\"T_5ae22_row4_col14\" class=\"data row4 col14\" >0.011900</td>\n",
              "      <td id=\"T_5ae22_row4_col15\" class=\"data row4 col15\" >0.038866</td>\n",
              "      <td id=\"T_5ae22_row4_col16\" class=\"data row4 col16\" >0.091167</td>\n",
              "      <td id=\"T_5ae22_row4_col17\" class=\"data row4 col17\" >0.048116</td>\n",
              "    </tr>\n",
              "    <tr>\n",
              "      <th id=\"T_5ae22_level0_row5\" class=\"row_heading level0 row5\" >PhysicalHealth</th>\n",
              "      <td id=\"T_5ae22_row5_col0\" class=\"data row5 col0\" >0.170721</td>\n",
              "      <td id=\"T_5ae22_row5_col1\" class=\"data row5 col1\" >0.109788</td>\n",
              "      <td id=\"T_5ae22_row5_col2\" class=\"data row5 col2\" >0.115352</td>\n",
              "      <td id=\"T_5ae22_row5_col3\" class=\"data row5 col3\" >-0.017254</td>\n",
              "      <td id=\"T_5ae22_row5_col4\" class=\"data row5 col4\" >0.137014</td>\n",
              "      <td id=\"T_5ae22_row5_col5\" class=\"data row5 col5\" >1.000000</td>\n",
              "      <td id=\"T_5ae22_row5_col6\" class=\"data row5 col6\" >0.287987</td>\n",
              "      <td id=\"T_5ae22_row5_col7\" class=\"data row5 col7\" >0.428373</td>\n",
              "      <td id=\"T_5ae22_row5_col8\" class=\"data row5 col8\" >-0.040904</td>\n",
              "      <td id=\"T_5ae22_row5_col9\" class=\"data row5 col9\" >0.110763</td>\n",
              "      <td id=\"T_5ae22_row5_col10\" class=\"data row5 col10\" >-0.000847</td>\n",
              "      <td id=\"T_5ae22_row5_col11\" class=\"data row5 col11\" >0.151361</td>\n",
              "      <td id=\"T_5ae22_row5_col12\" class=\"data row5 col12\" >-0.232283</td>\n",
              "      <td id=\"T_5ae22_row5_col13\" class=\"data row5 col13\" >-0.035703</td>\n",
              "      <td id=\"T_5ae22_row5_col14\" class=\"data row5 col14\" >-0.061387</td>\n",
              "      <td id=\"T_5ae22_row5_col15\" class=\"data row5 col15\" >0.117907</td>\n",
              "      <td id=\"T_5ae22_row5_col16\" class=\"data row5 col16\" >0.142197</td>\n",
              "      <td id=\"T_5ae22_row5_col17\" class=\"data row5 col17\" >0.041700</td>\n",
              "    </tr>\n",
              "    <tr>\n",
              "      <th id=\"T_5ae22_level0_row6\" class=\"row_heading level0 row6\" >MentalHealth</th>\n",
              "      <td id=\"T_5ae22_row6_col0\" class=\"data row6 col0\" >0.028591</td>\n",
              "      <td id=\"T_5ae22_row6_col1\" class=\"data row6 col1\" >0.064131</td>\n",
              "      <td id=\"T_5ae22_row6_col2\" class=\"data row6 col2\" >0.085157</td>\n",
              "      <td id=\"T_5ae22_row6_col3\" class=\"data row6 col3\" >0.051282</td>\n",
              "      <td id=\"T_5ae22_row6_col4\" class=\"data row6 col4\" >0.046467</td>\n",
              "      <td id=\"T_5ae22_row6_col5\" class=\"data row6 col5\" >0.287987</td>\n",
              "      <td id=\"T_5ae22_row6_col6\" class=\"data row6 col6\" >1.000000</td>\n",
              "      <td id=\"T_5ae22_row6_col7\" class=\"data row6 col7\" >0.152235</td>\n",
              "      <td id=\"T_5ae22_row6_col8\" class=\"data row6 col8\" >-0.100058</td>\n",
              "      <td id=\"T_5ae22_row6_col9\" class=\"data row6 col9\" >-0.155506</td>\n",
              "      <td id=\"T_5ae22_row6_col10\" class=\"data row6 col10\" >-0.014491</td>\n",
              "      <td id=\"T_5ae22_row6_col11\" class=\"data row6 col11\" >0.032945</td>\n",
              "      <td id=\"T_5ae22_row6_col12\" class=\"data row6 col12\" >-0.095808</td>\n",
              "      <td id=\"T_5ae22_row6_col13\" class=\"data row6 col13\" >-0.004412</td>\n",
              "      <td id=\"T_5ae22_row6_col14\" class=\"data row6 col14\" >-0.119717</td>\n",
              "      <td id=\"T_5ae22_row6_col15\" class=\"data row6 col15\" >0.114008</td>\n",
              "      <td id=\"T_5ae22_row6_col16\" class=\"data row6 col16\" >0.037281</td>\n",
              "      <td id=\"T_5ae22_row6_col17\" class=\"data row6 col17\" >-0.033412</td>\n",
              "    </tr>\n",
              "    <tr>\n",
              "      <th id=\"T_5ae22_level0_row7\" class=\"row_heading level0 row7\" >DiffWalking</th>\n",
              "      <td id=\"T_5ae22_row7_col0\" class=\"data row7 col0\" >0.201258</td>\n",
              "      <td id=\"T_5ae22_row7_col1\" class=\"data row7 col1\" >0.181678</td>\n",
              "      <td id=\"T_5ae22_row7_col2\" class=\"data row7 col2\" >0.120074</td>\n",
              "      <td id=\"T_5ae22_row7_col3\" class=\"data row7 col3\" >-0.035328</td>\n",
              "      <td id=\"T_5ae22_row7_col4\" class=\"data row7 col4\" >0.174143</td>\n",
              "      <td id=\"T_5ae22_row7_col5\" class=\"data row7 col5\" >0.428373</td>\n",
              "      <td id=\"T_5ae22_row7_col6\" class=\"data row7 col6\" >0.152235</td>\n",
              "      <td id=\"T_5ae22_row7_col7\" class=\"data row7 col7\" >1.000000</td>\n",
              "      <td id=\"T_5ae22_row7_col8\" class=\"data row7 col8\" >-0.068860</td>\n",
              "      <td id=\"T_5ae22_row7_col9\" class=\"data row7 col9\" >0.243263</td>\n",
              "      <td id=\"T_5ae22_row7_col10\" class=\"data row7 col10\" >-0.015831</td>\n",
              "      <td id=\"T_5ae22_row7_col11\" class=\"data row7 col11\" >0.205502</td>\n",
              "      <td id=\"T_5ae22_row7_col12\" class=\"data row7 col12\" >-0.278524</td>\n",
              "      <td id=\"T_5ae22_row7_col13\" class=\"data row7 col13\" >-0.043552</td>\n",
              "      <td id=\"T_5ae22_row7_col14\" class=\"data row7 col14\" >-0.022216</td>\n",
              "      <td id=\"T_5ae22_row7_col15\" class=\"data row7 col15\" >0.103222</td>\n",
              "      <td id=\"T_5ae22_row7_col16\" class=\"data row7 col16\" >0.153064</td>\n",
              "      <td id=\"T_5ae22_row7_col17\" class=\"data row7 col17\" >0.064840</td>\n",
              "    </tr>\n",
              "    <tr>\n",
              "      <th id=\"T_5ae22_level0_row8\" class=\"row_heading level0 row8\" >Sex</th>\n",
              "      <td id=\"T_5ae22_row8_col0\" class=\"data row8 col0\" >0.070040</td>\n",
              "      <td id=\"T_5ae22_row8_col1\" class=\"data row8 col1\" >0.026940</td>\n",
              "      <td id=\"T_5ae22_row8_col2\" class=\"data row8 col2\" >0.085052</td>\n",
              "      <td id=\"T_5ae22_row8_col3\" class=\"data row8 col3\" >0.004200</td>\n",
              "      <td id=\"T_5ae22_row8_col4\" class=\"data row8 col4\" >-0.003091</td>\n",
              "      <td id=\"T_5ae22_row8_col5\" class=\"data row8 col5\" >-0.040904</td>\n",
              "      <td id=\"T_5ae22_row8_col6\" class=\"data row8 col6\" >-0.100058</td>\n",
              "      <td id=\"T_5ae22_row8_col7\" class=\"data row8 col7\" >-0.068860</td>\n",
              "      <td id=\"T_5ae22_row8_col8\" class=\"data row8 col8\" >1.000000</td>\n",
              "      <td id=\"T_5ae22_row8_col9\" class=\"data row8 col9\" >-0.067478</td>\n",
              "      <td id=\"T_5ae22_row8_col10\" class=\"data row8 col10\" >0.018855</td>\n",
              "      <td id=\"T_5ae22_row8_col11\" class=\"data row8 col11\" >-0.013456</td>\n",
              "      <td id=\"T_5ae22_row8_col12\" class=\"data row8 col12\" >0.048247</td>\n",
              "      <td id=\"T_5ae22_row8_col13\" class=\"data row8 col13\" >-0.010283</td>\n",
              "      <td id=\"T_5ae22_row8_col14\" class=\"data row8 col14\" >-0.015704</td>\n",
              "      <td id=\"T_5ae22_row8_col15\" class=\"data row8 col15\" >-0.069191</td>\n",
              "      <td id=\"T_5ae22_row8_col16\" class=\"data row8 col16\" >-0.009084</td>\n",
              "      <td id=\"T_5ae22_row8_col17\" class=\"data row8 col17\" >0.013434</td>\n",
              "    </tr>\n",
              "    <tr>\n",
              "      <th id=\"T_5ae22_level0_row9\" class=\"row_heading level0 row9\" >AgeCategory</th>\n",
              "      <td id=\"T_5ae22_row9_col0\" class=\"data row9 col0\" >0.233432</td>\n",
              "      <td id=\"T_5ae22_row9_col1\" class=\"data row9 col1\" >-0.004744</td>\n",
              "      <td id=\"T_5ae22_row9_col2\" class=\"data row9 col2\" >0.128331</td>\n",
              "      <td id=\"T_5ae22_row9_col3\" class=\"data row9 col3\" >-0.059528</td>\n",
              "      <td id=\"T_5ae22_row9_col4\" class=\"data row9 col4\" >0.137822</td>\n",
              "      <td id=\"T_5ae22_row9_col5\" class=\"data row9 col5\" >0.110763</td>\n",
              "      <td id=\"T_5ae22_row9_col6\" class=\"data row9 col6\" >-0.155506</td>\n",
              "      <td id=\"T_5ae22_row9_col7\" class=\"data row9 col7\" >0.243263</td>\n",
              "      <td id=\"T_5ae22_row9_col8\" class=\"data row9 col8\" >-0.067478</td>\n",
              "      <td id=\"T_5ae22_row9_col9\" class=\"data row9 col9\" >1.000000</td>\n",
              "      <td id=\"T_5ae22_row9_col10\" class=\"data row9 col10\" >0.163090</td>\n",
              "      <td id=\"T_5ae22_row9_col11\" class=\"data row9 col11\" >0.193745</td>\n",
              "      <td id=\"T_5ae22_row9_col12\" class=\"data row9 col12\" >-0.121687</td>\n",
              "      <td id=\"T_5ae22_row9_col13\" class=\"data row9 col13\" >0.044427</td>\n",
              "      <td id=\"T_5ae22_row9_col14\" class=\"data row9 col14\" >0.104953</td>\n",
              "      <td id=\"T_5ae22_row9_col15\" class=\"data row9 col15\" >-0.058108</td>\n",
              "      <td id=\"T_5ae22_row9_col16\" class=\"data row9 col16\" >0.123190</td>\n",
              "      <td id=\"T_5ae22_row9_col17\" class=\"data row9 col17\" >0.263537</td>\n",
              "    </tr>\n",
              "    <tr>\n",
              "      <th id=\"T_5ae22_level0_row10\" class=\"row_heading level0 row10\" >Race</th>\n",
              "      <td id=\"T_5ae22_row10_col0\" class=\"data row10 col0\" >0.034854</td>\n",
              "      <td id=\"T_5ae22_row10_col1\" class=\"data row10 col1\" >-0.037424</td>\n",
              "      <td id=\"T_5ae22_row10_col2\" class=\"data row10 col2\" >0.065499</td>\n",
              "      <td id=\"T_5ae22_row10_col3\" class=\"data row10 col3\" >0.036702</td>\n",
              "      <td id=\"T_5ae22_row10_col4\" class=\"data row10 col4\" >-0.003956</td>\n",
              "      <td id=\"T_5ae22_row10_col5\" class=\"data row10 col5\" >-0.000847</td>\n",
              "      <td id=\"T_5ae22_row10_col6\" class=\"data row10 col6\" >-0.014491</td>\n",
              "      <td id=\"T_5ae22_row10_col7\" class=\"data row10 col7\" >-0.015831</td>\n",
              "      <td id=\"T_5ae22_row10_col8\" class=\"data row10 col8\" >0.018855</td>\n",
              "      <td id=\"T_5ae22_row10_col9\" class=\"data row10 col9\" >0.163090</td>\n",
              "      <td id=\"T_5ae22_row10_col10\" class=\"data row10 col10\" >1.000000</td>\n",
              "      <td id=\"T_5ae22_row10_col11\" class=\"data row10 col11\" >-0.052216</td>\n",
              "      <td id=\"T_5ae22_row10_col12\" class=\"data row10 col12\" >0.056767</td>\n",
              "      <td id=\"T_5ae22_row10_col13\" class=\"data row10 col13\" >0.050344</td>\n",
              "      <td id=\"T_5ae22_row10_col14\" class=\"data row10 col14\" >0.035889</td>\n",
              "      <td id=\"T_5ae22_row10_col15\" class=\"data row10 col15\" >-0.017975</td>\n",
              "      <td id=\"T_5ae22_row10_col16\" class=\"data row10 col16\" >0.003709</td>\n",
              "      <td id=\"T_5ae22_row10_col17\" class=\"data row10 col17\" >0.134780</td>\n",
              "    </tr>\n",
              "    <tr>\n",
              "      <th id=\"T_5ae22_level0_row11\" class=\"row_heading level0 row11\" >Diabetic</th>\n",
              "      <td id=\"T_5ae22_row11_col0\" class=\"data row11 col0\" >0.168553</td>\n",
              "      <td id=\"T_5ae22_row11_col1\" class=\"data row11 col1\" >0.202472</td>\n",
              "      <td id=\"T_5ae22_row11_col2\" class=\"data row11 col2\" >0.053847</td>\n",
              "      <td id=\"T_5ae22_row11_col3\" class=\"data row11 col3\" >-0.057372</td>\n",
              "      <td id=\"T_5ae22_row11_col4\" class=\"data row11 col4\" >0.101518</td>\n",
              "      <td id=\"T_5ae22_row11_col5\" class=\"data row11 col5\" >0.151361</td>\n",
              "      <td id=\"T_5ae22_row11_col6\" class=\"data row11 col6\" >0.032945</td>\n",
              "      <td id=\"T_5ae22_row11_col7\" class=\"data row11 col7\" >0.205502</td>\n",
              "      <td id=\"T_5ae22_row11_col8\" class=\"data row11 col8\" >-0.013456</td>\n",
              "      <td id=\"T_5ae22_row11_col9\" class=\"data row11 col9\" >0.193745</td>\n",
              "      <td id=\"T_5ae22_row11_col10\" class=\"data row11 col10\" >-0.052216</td>\n",
              "      <td id=\"T_5ae22_row11_col11\" class=\"data row11 col11\" >1.000000</td>\n",
              "      <td id=\"T_5ae22_row11_col12\" class=\"data row11 col12\" >-0.133824</td>\n",
              "      <td id=\"T_5ae22_row11_col13\" class=\"data row11 col13\" >-0.010854</td>\n",
              "      <td id=\"T_5ae22_row11_col14\" class=\"data row11 col14\" >0.000449</td>\n",
              "      <td id=\"T_5ae22_row11_col15\" class=\"data row11 col15\" >0.049827</td>\n",
              "      <td id=\"T_5ae22_row11_col16\" class=\"data row11 col16\" >0.142917</td>\n",
              "      <td id=\"T_5ae22_row11_col17\" class=\"data row11 col17\" >0.032523</td>\n",
              "    </tr>\n",
              "    <tr>\n",
              "      <th id=\"T_5ae22_level0_row12\" class=\"row_heading level0 row12\" >PhysicalActivity</th>\n",
              "      <td id=\"T_5ae22_row12_col0\" class=\"data row12 col0\" >-0.100030</td>\n",
              "      <td id=\"T_5ae22_row12_col1\" class=\"data row12 col1\" >-0.150616</td>\n",
              "      <td id=\"T_5ae22_row12_col2\" class=\"data row12 col2\" >-0.097174</td>\n",
              "      <td id=\"T_5ae22_row12_col3\" class=\"data row12 col3\" >0.017487</td>\n",
              "      <td id=\"T_5ae22_row12_col4\" class=\"data row12 col4\" >-0.079455</td>\n",
              "      <td id=\"T_5ae22_row12_col5\" class=\"data row12 col5\" >-0.232283</td>\n",
              "      <td id=\"T_5ae22_row12_col6\" class=\"data row12 col6\" >-0.095808</td>\n",
              "      <td id=\"T_5ae22_row12_col7\" class=\"data row12 col7\" >-0.278524</td>\n",
              "      <td id=\"T_5ae22_row12_col8\" class=\"data row12 col8\" >0.048247</td>\n",
              "      <td id=\"T_5ae22_row12_col9\" class=\"data row12 col9\" >-0.121687</td>\n",
              "      <td id=\"T_5ae22_row12_col10\" class=\"data row12 col10\" >0.056767</td>\n",
              "      <td id=\"T_5ae22_row12_col11\" class=\"data row12 col11\" >-0.133824</td>\n",
              "      <td id=\"T_5ae22_row12_col12\" class=\"data row12 col12\" >1.000000</td>\n",
              "      <td id=\"T_5ae22_row12_col13\" class=\"data row12 col13\" >0.024418</td>\n",
              "      <td id=\"T_5ae22_row12_col14\" class=\"data row12 col14\" >0.003849</td>\n",
              "      <td id=\"T_5ae22_row12_col15\" class=\"data row12 col15\" >-0.041526</td>\n",
              "      <td id=\"T_5ae22_row12_col16\" class=\"data row12 col16\" >-0.081827</td>\n",
              "      <td id=\"T_5ae22_row12_col17\" class=\"data row12 col17\" >-0.001328</td>\n",
              "    </tr>\n",
              "    <tr>\n",
              "      <th id=\"T_5ae22_level0_row13\" class=\"row_heading level0 row13\" >GenHealth</th>\n",
              "      <td id=\"T_5ae22_row13_col0\" class=\"data row13 col0\" >-0.011062</td>\n",
              "      <td id=\"T_5ae22_row13_col1\" class=\"data row13 col1\" >0.035932</td>\n",
              "      <td id=\"T_5ae22_row13_col2\" class=\"data row13 col2\" >0.020625</td>\n",
              "      <td id=\"T_5ae22_row13_col3\" class=\"data row13 col3\" >0.001629</td>\n",
              "      <td id=\"T_5ae22_row13_col4\" class=\"data row13 col4\" >-0.009335</td>\n",
              "      <td id=\"T_5ae22_row13_col5\" class=\"data row13 col5\" >-0.035703</td>\n",
              "      <td id=\"T_5ae22_row13_col6\" class=\"data row13 col6\" >-0.004412</td>\n",
              "      <td id=\"T_5ae22_row13_col7\" class=\"data row13 col7\" >-0.043552</td>\n",
              "      <td id=\"T_5ae22_row13_col8\" class=\"data row13 col8\" >-0.010283</td>\n",
              "      <td id=\"T_5ae22_row13_col9\" class=\"data row13 col9\" >0.044427</td>\n",
              "      <td id=\"T_5ae22_row13_col10\" class=\"data row13 col10\" >0.050344</td>\n",
              "      <td id=\"T_5ae22_row13_col11\" class=\"data row13 col11\" >-0.010854</td>\n",
              "      <td id=\"T_5ae22_row13_col12\" class=\"data row13 col12\" >0.024418</td>\n",
              "      <td id=\"T_5ae22_row13_col13\" class=\"data row13 col13\" >1.000000</td>\n",
              "      <td id=\"T_5ae22_row13_col14\" class=\"data row13 col14\" >-0.004163</td>\n",
              "      <td id=\"T_5ae22_row13_col15\" class=\"data row13 col15\" >0.007280</td>\n",
              "      <td id=\"T_5ae22_row13_col16\" class=\"data row13 col16\" >-0.010580</td>\n",
              "      <td id=\"T_5ae22_row13_col17\" class=\"data row13 col17\" >0.018982</td>\n",
              "    </tr>\n",
              "    <tr>\n",
              "      <th id=\"T_5ae22_level0_row14\" class=\"row_heading level0 row14\" >SleepTime</th>\n",
              "      <td id=\"T_5ae22_row14_col0\" class=\"data row14 col0\" >0.008327</td>\n",
              "      <td id=\"T_5ae22_row14_col1\" class=\"data row14 col1\" >-0.051822</td>\n",
              "      <td id=\"T_5ae22_row14_col2\" class=\"data row14 col2\" >-0.030336</td>\n",
              "      <td id=\"T_5ae22_row14_col3\" class=\"data row14 col3\" >-0.005065</td>\n",
              "      <td id=\"T_5ae22_row14_col4\" class=\"data row14 col4\" >0.011900</td>\n",
              "      <td id=\"T_5ae22_row14_col5\" class=\"data row14 col5\" >-0.061387</td>\n",
              "      <td id=\"T_5ae22_row14_col6\" class=\"data row14 col6\" >-0.119717</td>\n",
              "      <td id=\"T_5ae22_row14_col7\" class=\"data row14 col7\" >-0.022216</td>\n",
              "      <td id=\"T_5ae22_row14_col8\" class=\"data row14 col8\" >-0.015704</td>\n",
              "      <td id=\"T_5ae22_row14_col9\" class=\"data row14 col9\" >0.104953</td>\n",
              "      <td id=\"T_5ae22_row14_col10\" class=\"data row14 col10\" >0.035889</td>\n",
              "      <td id=\"T_5ae22_row14_col11\" class=\"data row14 col11\" >0.000449</td>\n",
              "      <td id=\"T_5ae22_row14_col12\" class=\"data row14 col12\" >0.003849</td>\n",
              "      <td id=\"T_5ae22_row14_col13\" class=\"data row14 col13\" >-0.004163</td>\n",
              "      <td id=\"T_5ae22_row14_col14\" class=\"data row14 col14\" >1.000000</td>\n",
              "      <td id=\"T_5ae22_row14_col15\" class=\"data row14 col15\" >-0.048245</td>\n",
              "      <td id=\"T_5ae22_row14_col16\" class=\"data row14 col16\" >0.006238</td>\n",
              "      <td id=\"T_5ae22_row14_col17\" class=\"data row14 col17\" >0.041266</td>\n",
              "    </tr>\n",
              "    <tr>\n",
              "      <th id=\"T_5ae22_level0_row15\" class=\"row_heading level0 row15\" >Asthma</th>\n",
              "      <td id=\"T_5ae22_row15_col0\" class=\"data row15 col0\" >0.041444</td>\n",
              "      <td id=\"T_5ae22_row15_col1\" class=\"data row15 col1\" >0.092345</td>\n",
              "      <td id=\"T_5ae22_row15_col2\" class=\"data row15 col2\" >0.024149</td>\n",
              "      <td id=\"T_5ae22_row15_col3\" class=\"data row15 col3\" >-0.002202</td>\n",
              "      <td id=\"T_5ae22_row15_col4\" class=\"data row15 col4\" >0.038866</td>\n",
              "      <td id=\"T_5ae22_row15_col5\" class=\"data row15 col5\" >0.117907</td>\n",
              "      <td id=\"T_5ae22_row15_col6\" class=\"data row15 col6\" >0.114008</td>\n",
              "      <td id=\"T_5ae22_row15_col7\" class=\"data row15 col7\" >0.103222</td>\n",
              "      <td id=\"T_5ae22_row15_col8\" class=\"data row15 col8\" >-0.069191</td>\n",
              "      <td id=\"T_5ae22_row15_col9\" class=\"data row15 col9\" >-0.058108</td>\n",
              "      <td id=\"T_5ae22_row15_col10\" class=\"data row15 col10\" >-0.017975</td>\n",
              "      <td id=\"T_5ae22_row15_col11\" class=\"data row15 col11\" >0.049827</td>\n",
              "      <td id=\"T_5ae22_row15_col12\" class=\"data row15 col12\" >-0.041526</td>\n",
              "      <td id=\"T_5ae22_row15_col13\" class=\"data row15 col13\" >0.007280</td>\n",
              "      <td id=\"T_5ae22_row15_col14\" class=\"data row15 col14\" >-0.048245</td>\n",
              "      <td id=\"T_5ae22_row15_col15\" class=\"data row15 col15\" >1.000000</td>\n",
              "      <td id=\"T_5ae22_row15_col16\" class=\"data row15 col16\" >0.039707</td>\n",
              "      <td id=\"T_5ae22_row15_col17\" class=\"data row15 col17\" >-0.000396</td>\n",
              "    </tr>\n",
              "    <tr>\n",
              "      <th id=\"T_5ae22_level0_row16\" class=\"row_heading level0 row16\" >KidneyDisease</th>\n",
              "      <td id=\"T_5ae22_row16_col0\" class=\"data row16 col0\" >0.145197</td>\n",
              "      <td id=\"T_5ae22_row16_col1\" class=\"data row16 col1\" >0.050768</td>\n",
              "      <td id=\"T_5ae22_row16_col2\" class=\"data row16 col2\" >0.034920</td>\n",
              "      <td id=\"T_5ae22_row16_col3\" class=\"data row16 col3\" >-0.028280</td>\n",
              "      <td id=\"T_5ae22_row16_col4\" class=\"data row16 col4\" >0.091167</td>\n",
              "      <td id=\"T_5ae22_row16_col5\" class=\"data row16 col5\" >0.142197</td>\n",
              "      <td id=\"T_5ae22_row16_col6\" class=\"data row16 col6\" >0.037281</td>\n",
              "      <td id=\"T_5ae22_row16_col7\" class=\"data row16 col7\" >0.153064</td>\n",
              "      <td id=\"T_5ae22_row16_col8\" class=\"data row16 col8\" >-0.009084</td>\n",
              "      <td id=\"T_5ae22_row16_col9\" class=\"data row16 col9\" >0.123190</td>\n",
              "      <td id=\"T_5ae22_row16_col10\" class=\"data row16 col10\" >0.003709</td>\n",
              "      <td id=\"T_5ae22_row16_col11\" class=\"data row16 col11\" >0.142917</td>\n",
              "      <td id=\"T_5ae22_row16_col12\" class=\"data row16 col12\" >-0.081827</td>\n",
              "      <td id=\"T_5ae22_row16_col13\" class=\"data row16 col13\" >-0.010580</td>\n",
              "      <td id=\"T_5ae22_row16_col14\" class=\"data row16 col14\" >0.006238</td>\n",
              "      <td id=\"T_5ae22_row16_col15\" class=\"data row16 col15\" >0.039707</td>\n",
              "      <td id=\"T_5ae22_row16_col16\" class=\"data row16 col16\" >1.000000</td>\n",
              "      <td id=\"T_5ae22_row16_col17\" class=\"data row16 col17\" >0.061816</td>\n",
              "    </tr>\n",
              "    <tr>\n",
              "      <th id=\"T_5ae22_level0_row17\" class=\"row_heading level0 row17\" >SkinCancer</th>\n",
              "      <td id=\"T_5ae22_row17_col0\" class=\"data row17 col0\" >0.093317</td>\n",
              "      <td id=\"T_5ae22_row17_col1\" class=\"data row17 col1\" >-0.033644</td>\n",
              "      <td id=\"T_5ae22_row17_col2\" class=\"data row17 col2\" >0.033977</td>\n",
              "      <td id=\"T_5ae22_row17_col3\" class=\"data row17 col3\" >-0.005702</td>\n",
              "      <td id=\"T_5ae22_row17_col4\" class=\"data row17 col4\" >0.048116</td>\n",
              "      <td id=\"T_5ae22_row17_col5\" class=\"data row17 col5\" >0.041700</td>\n",
              "      <td id=\"T_5ae22_row17_col6\" class=\"data row17 col6\" >-0.033412</td>\n",
              "      <td id=\"T_5ae22_row17_col7\" class=\"data row17 col7\" >0.064840</td>\n",
              "      <td id=\"T_5ae22_row17_col8\" class=\"data row17 col8\" >0.013434</td>\n",
              "      <td id=\"T_5ae22_row17_col9\" class=\"data row17 col9\" >0.263537</td>\n",
              "      <td id=\"T_5ae22_row17_col10\" class=\"data row17 col10\" >0.134780</td>\n",
              "      <td id=\"T_5ae22_row17_col11\" class=\"data row17 col11\" >0.032523</td>\n",
              "      <td id=\"T_5ae22_row17_col12\" class=\"data row17 col12\" >-0.001328</td>\n",
              "      <td id=\"T_5ae22_row17_col13\" class=\"data row17 col13\" >0.018982</td>\n",
              "      <td id=\"T_5ae22_row17_col14\" class=\"data row17 col14\" >0.041266</td>\n",
              "      <td id=\"T_5ae22_row17_col15\" class=\"data row17 col15\" >-0.000396</td>\n",
              "      <td id=\"T_5ae22_row17_col16\" class=\"data row17 col16\" >0.061816</td>\n",
              "      <td id=\"T_5ae22_row17_col17\" class=\"data row17 col17\" >1.000000</td>\n",
              "    </tr>\n",
              "  </tbody>\n",
              "</table>\n"
            ]
          },
          "metadata": {},
          "execution_count": 13
        }
      ],
      "source": [
        "corr = data.corr()\n",
        "corr.style.background_gradient(cmap='coolwarm')"
      ]
    },
    {
      "cell_type": "code",
      "execution_count": null,
      "metadata": {
        "id": "TWdgIV0NiCTo"
      },
      "outputs": [],
      "source": [
        "x = data.drop(['HeartDisease'], axis=1)\n",
        "y = data['HeartDisease']"
      ]
    },
    {
      "cell_type": "code",
      "execution_count": null,
      "metadata": {
        "id": "LvqVJV1mjYxk"
      },
      "outputs": [],
      "source": [
        "x_train, x_test, y_train, y_test = train_test_split(x, y, test_size=0.2, random_state=42)"
      ]
    },
    {
      "cell_type": "code",
      "execution_count": null,
      "metadata": {
        "id": "_TbkMwQ8jkLn"
      },
      "outputs": [],
      "source": [
        "scaler = StandardScaler()\n",
        "x_train_scaled = scaler.fit_transform(x_train)\n",
        "x_test_scaled = scaler.transform(x_test)"
      ]
    },
    {
      "cell_type": "code",
      "execution_count": null,
      "metadata": {
        "colab": {
          "base_uri": "https://localhost:8080/"
        },
        "id": "XC3OXqnMjsGG",
        "outputId": "25081be6-e86c-4ed5-c4f5-908a27e88415"
      },
      "outputs": [
        {
          "output_type": "execute_result",
          "data": {
            "text/plain": [
              "(255836, 17)"
            ]
          },
          "metadata": {},
          "execution_count": 17
        }
      ],
      "source": [
        "x_train.shape"
      ]
    },
    {
      "cell_type": "code",
      "execution_count": null,
      "metadata": {
        "colab": {
          "base_uri": "https://localhost:8080/"
        },
        "id": "eVo-xzi_jyQ5",
        "outputId": "0481adeb-b4dc-4144-fa3e-4f882acea68c"
      },
      "outputs": [
        {
          "output_type": "execute_result",
          "data": {
            "text/plain": [
              "(63959, 17)"
            ]
          },
          "metadata": {},
          "execution_count": 18
        }
      ],
      "source": [
        "x_test.shape"
      ]
    },
    {
      "cell_type": "markdown",
      "metadata": {
        "id": "32qpen_RWKAx"
      },
      "source": [
        "**BEFORE BALANCING**"
      ]
    },
    {
      "cell_type": "markdown",
      "source": [
        "Logistic Regression"
      ],
      "metadata": {
        "id": "itXTtB7EqCkx"
      }
    },
    {
      "cell_type": "code",
      "execution_count": null,
      "metadata": {
        "colab": {
          "base_uri": "https://localhost:8080/"
        },
        "id": "ez8NaKs7U_Ek",
        "outputId": "4f1ab43a-610b-4a06-b3b9-f9842cf2a9e4"
      },
      "outputs": [
        {
          "name": "stdout",
          "output_type": "stream",
          "text": [
            "              precision    recall  f1-score   support\n",
            "\n",
            "           0       0.92      0.99      0.95     58367\n",
            "           1       0.51      0.09      0.15      5592\n",
            "\n",
            "    accuracy                           0.91     63959\n",
            "   macro avg       0.71      0.54      0.55     63959\n",
            "weighted avg       0.88      0.91      0.88     63959\n",
            "\n"
          ]
        }
      ],
      "source": [
        "log_reg = LogisticRegression(penalty='l2')\n",
        "\n",
        "log_reg.fit(x_train_scaled, y_train)\n",
        "y_pred = log_reg.predict(x_test_scaled)\n",
        "\n",
        "print(classification_report(y_test, y_pred))"
      ]
    },
    {
      "cell_type": "markdown",
      "source": [
        "KNN"
      ],
      "metadata": {
        "id": "UNkcmweGqGAl"
      }
    },
    {
      "cell_type": "code",
      "execution_count": null,
      "metadata": {
        "colab": {
          "base_uri": "https://localhost:8080/",
          "height": 505
        },
        "id": "9E2fKyLJHnMn",
        "outputId": "31e487d5-71a1-4dba-b904-12502f5846e9"
      },
      "outputs": [
        {
          "data": {
            "image/png": "[encoded data removed]",
            "text/plain": [
              "<Figure size 800x500 with 1 Axes>"
            ]
          },
          "metadata": {},
          "output_type": "display_data"
        },
        {
          "name": "stdout",
          "output_type": "stream",
          "text": [
            "The optimal k value is: 8\n"
          ]
        }
      ],
      "source": [
        "from sklearn.model_selection import cross_val_score\n",
        "import numpy as np\n",
        "\n",
        "k_values = range(1, 10)\n",
        "accuracy_scores = []\n",
        "\n",
        "# Loop over k values, perform cross-validation, and compute accuracy\n",
        "for k in k_values:\n",
        "    knn = KNeighborsClassifier(n_neighbors=k)\n",
        "    # Perform 5-fold cross-validation\n",
        "    scores = cross_val_score(knn, x_train_scaled, y_train, cv=5, scoring='accuracy')\n",
        "    accuracy_scores.append(scores.mean())\n",
        "\n",
        "# Plot the accuracy scores vs k values\n",
        "plt.figure(figsize=(8, 5))\n",
        "plt.plot(k_values, accuracy_scores, marker='o', linestyle='--', color='b')\n",
        "plt.xlabel('Number of Neighbors (k)')\n",
        "plt.ylabel('Cross-Validated Accuracy')\n",
        "plt.title('Optimal k for KNN')\n",
        "plt.grid(True)\n",
        "plt.show()\n",
        "\n",
        "# Print the optimal k value\n",
        "optimal_k = k_values[np.argmax(accuracy_scores)]\n",
        "print(f'The optimal k value is: {optimal_k}')"
      ]
    },
    {
      "cell_type": "code",
      "execution_count": null,
      "metadata": {
        "colab": {
          "base_uri": "https://localhost:8080/",
          "height": 564
        },
        "id": "aZSpO1KeSd8q",
        "outputId": "bc23ae64-1eaf-485e-e805-1ec1db9d3d6d"
      },
      "outputs": [
        {
          "data": {
            "image/png": "[encoded data removed]",
            "text/plain": [
              "<Figure size 1000x600 with 1 Axes>"
            ]
          },
          "metadata": {},
          "output_type": "display_data"
        }
      ],
      "source": [
        "from sklearn.metrics import accuracy_score\n",
        "\n",
        "error_rate = []\n",
        "\n",
        "# Range of k values to test\n",
        "k_range = range(1, 10)\n",
        "\n",
        "# Loop over different values of k\n",
        "for k in k_range:\n",
        "    knn = KNeighborsClassifier(n_neighbors=k)\n",
        "    knn.fit(x_train_scaled, y_train)\n",
        "    y_pred = knn.predict(x_test_scaled)\n",
        "    error_rate.append(1 - accuracy_score(y_test, y_pred))  # Calculate error rate\n",
        "\n",
        "# Plot error rate vs. k\n",
        "plt.figure(figsize=(10,6))\n",
        "plt.plot(k_range, error_rate, color='blue', linestyle='dashed', marker='o', markerfacecolor='red', markersize=8)\n",
        "plt.title('Error Rate vs. K Value')\n",
        "plt.xlabel('K')\n",
        "plt.ylabel('Error Rate')\n",
        "plt.xticks(k_range)\n",
        "plt.show()"
      ]
    },
    {
      "cell_type": "code",
      "execution_count": null,
      "metadata": {
        "colab": {
          "base_uri": "https://localhost:8080/"
        },
        "id": "JGGWbt-zYIzM",
        "outputId": "55915fdc-b08a-4739-ec68-977369cf490f"
      },
      "outputs": [
        {
          "name": "stdout",
          "output_type": "stream",
          "text": [
            "              precision    recall  f1-score   support\n",
            "\n",
            "           0       0.92      0.99      0.95     58367\n",
            "           1       0.44      0.08      0.13      5592\n",
            "\n",
            "    accuracy                           0.91     63959\n",
            "   macro avg       0.68      0.53      0.54     63959\n",
            "weighted avg       0.88      0.91      0.88     63959\n",
            "\n"
          ]
        }
      ],
      "source": [
        "knn = KNeighborsClassifier(n_neighbors=6)\n",
        "knn.fit(x_train_scaled, y_train)\n",
        "y_pred = knn.predict(x_test_scaled)\n",
        "\n",
        "print(classification_report(y_test, y_pred))"
      ]
    },
    {
      "cell_type": "markdown",
      "source": [
        "SVM"
      ],
      "metadata": {
        "id": "xdsrOXjaqIIh"
      }
    },
    {
      "cell_type": "code",
      "execution_count": null,
      "metadata": {
        "colab": {
          "background_save": true
        },
        "id": "wZz5HZ7aqSAZ",
        "outputId": "b75b4ab8-259e-47c8-d888-dcee5eb75441"
      },
      "outputs": [
        {
          "name": "stdout",
          "output_type": "stream",
          "text": [
            "              precision    recall  f1-score   support\n",
            "\n",
            "           0       0.91      1.00      0.95     58367\n",
            "           1       0.00      0.00      0.00      5592\n",
            "\n",
            "    accuracy                           0.91     63959\n",
            "   macro avg       0.46      0.50      0.48     63959\n",
            "weighted avg       0.83      0.91      0.87     63959\n",
            "\n"
          ]
        },
        {
          "name": "stderr",
          "output_type": "stream",
          "text": [
            "/usr/local/lib/python3.10/dist-packages/sklearn/metrics/_classification.py:1531: UndefinedMetricWarning: Precision is ill-defined and being set to 0.0 in labels with no predicted samples. Use `zero_division` parameter to control this behavior.\n",
            "  _warn_prf(average, modifier, f\"{metric.capitalize()} is\", len(result))\n",
            "/usr/local/lib/python3.10/dist-packages/sklearn/metrics/_classification.py:1531: UndefinedMetricWarning: Precision is ill-defined and being set to 0.0 in labels with no predicted samples. Use `zero_division` parameter to control this behavior.\n",
            "  _warn_prf(average, modifier, f\"{metric.capitalize()} is\", len(result))\n",
            "/usr/local/lib/python3.10/dist-packages/sklearn/metrics/_classification.py:1531: UndefinedMetricWarning: Precision is ill-defined and being set to 0.0 in labels with no predicted samples. Use `zero_division` parameter to control this behavior.\n",
            "  _warn_prf(average, modifier, f\"{metric.capitalize()} is\", len(result))\n"
          ]
        }
      ],
      "source": [
        "svm_model = SVC(kernel='linear', C=1.0, gamma='scale', random_state=42)\n",
        "svm_model.fit(x_train_scaled, y_train)\n",
        "y_pred = svm_model.predict(x_test_scaled)\n",
        "\n",
        "print(classification_report(y_test, y_pred))"
      ]
    },
    {
      "cell_type": "markdown",
      "source": [
        "Random Forest"
      ],
      "metadata": {
        "id": "36B4_iWKqLJp"
      }
    },
    {
      "cell_type": "code",
      "execution_count": null,
      "metadata": {
        "colab": {
          "base_uri": "https://localhost:8080/",
          "height": 564
        },
        "id": "Ot9jFfD4c2gK",
        "outputId": "ec389275-2088-4484-c34c-87c3f6bca6a5"
      },
      "outputs": [
        {
          "data": {
            "image/png": "[encoded data removed]",
            "text/plain": [
              "<Figure size 800x600 with 1 Axes>"
            ]
          },
          "metadata": {},
          "output_type": "display_data"
        }
      ],
      "source": [
        "from sklearn.model_selection import cross_val_score\n",
        "import numpy as np\n",
        "n_trees = [10, 50, 100, 200, 500]\n",
        "\n",
        "cv_scores = []\n",
        "\n",
        "for n in n_trees:\n",
        "    rf = RandomForestClassifier(n_estimators=n, random_state=42)\n",
        "    scores = cross_val_score(rf, x_train_scaled, y_train, cv=5, scoring='accuracy')\n",
        "    cv_scores.append(np.mean(scores))\n",
        "\n",
        "# Plot the results\n",
        "plt.figure(figsize=(8, 6))\n",
        "plt.plot(n_trees, cv_scores, marker='o')\n",
        "plt.title('Accuracy vs. Number of Trees in Random Forest')\n",
        "plt.xlabel('Number of Trees')\n",
        "plt.ylabel('Accuracy')\n",
        "plt.grid(True)\n",
        "plt.show()"
      ]
    },
    {
      "cell_type": "code",
      "execution_count": null,
      "metadata": {
        "colab": {
          "base_uri": "https://localhost:8080/"
        },
        "id": "fddPkMyrZGQV",
        "outputId": "3666acdf-2cb0-4789-9b99-a98d4406d80a"
      },
      "outputs": [
        {
          "name": "stdout",
          "output_type": "stream",
          "text": [
            "              precision    recall  f1-score   support\n",
            "\n",
            "           0       0.92      0.98      0.95     58367\n",
            "           1       0.36      0.11      0.17      5592\n",
            "\n",
            "    accuracy                           0.90     63959\n",
            "   macro avg       0.64      0.55      0.56     63959\n",
            "weighted avg       0.87      0.90      0.88     63959\n",
            "\n"
          ]
        }
      ],
      "source": [
        "random_forest = RandomForestClassifier(n_estimators=100)\n",
        "random_forest.fit(x_train_scaled, y_train)\n",
        "y_pred = random_forest.predict(x_test_scaled)\n",
        "\n",
        "print(classification_report(y_test, y_pred))"
      ]
    },
    {
      "cell_type": "markdown",
      "source": [
        "XGBoost"
      ],
      "metadata": {
        "id": "PnDK2RsgqPIc"
      }
    },
    {
      "cell_type": "code",
      "execution_count": null,
      "metadata": {
        "colab": {
          "base_uri": "https://localhost:8080/",
          "height": 564
        },
        "id": "xoffWfV2_yKz",
        "outputId": "3a6a0ffa-5b10-4f9a-9895-e7227361234b"
      },
      "outputs": [
        {
          "data": {
            "image/png": "[encoded data removed]",
            "text/plain": [
              "<Figure size 1000x600 with 2 Axes>"
            ]
          },
          "metadata": {},
          "output_type": "display_data"
        }
      ],
      "source": [
        "learning_rates = [0.01, 0.05, 0.1, 0.2]\n",
        "n_estimators = [50, 100, 200, 300, 400]\n",
        "results = []\n",
        "\n",
        "for lr in learning_rates:\n",
        "    for n in n_estimators:\n",
        "        xgb_model = xgb.XGBClassifier(learning_rate=lr, n_estimators=n, random_state=42)\n",
        "\n",
        "        scores = cross_val_score(xgb_model, x_train_scaled, y_train, cv=5, scoring='accuracy')\n",
        "        results.append({'learning_rate': lr, 'n_estimators': n, 'accuracy': np.mean(scores)})\n",
        "\n",
        "results_df = pd.DataFrame(results)\n",
        "\n",
        "heatmap_data = results_df.pivot(index='learning_rate', columns='n_estimators', values='accuracy')\n",
        "\n",
        "plt.figure(figsize=(10, 6))\n",
        "sns.heatmap(heatmap_data, annot=True, cmap='viridis', fmt='.4f', cbar_kws={'label': 'Accuracy'})\n",
        "plt.title('Accuracy Heatmap for Learning Rate and Number of Estimators')\n",
        "plt.xlabel('Number of Estimators')\n",
        "plt.ylabel('Learning Rate')\n",
        "plt.show()"
      ]
    },
    {
      "cell_type": "code",
      "execution_count": null,
      "metadata": {
        "colab": {
          "base_uri": "https://localhost:8080/"
        },
        "id": "64S3JKJiZn1u",
        "outputId": "76c80535-692f-48f2-8a38-e8cb148a0186"
      },
      "outputs": [
        {
          "name": "stdout",
          "output_type": "stream",
          "text": [
            "              precision    recall  f1-score   support\n",
            "\n",
            "           0       0.92      0.99      0.95     58367\n",
            "           1       0.57      0.07      0.12      5592\n",
            "\n",
            "    accuracy                           0.91     63959\n",
            "   macro avg       0.75      0.53      0.54     63959\n",
            "weighted avg       0.89      0.91      0.88     63959\n",
            "\n"
          ]
        }
      ],
      "source": [
        "xgb_model = XGBClassifier(learning_rate=0.05, n_estimators=100, random_state=42)\n",
        "xgb_model.fit(x_train_scaled, y_train)\n",
        "y_pred = xgb_model.predict(x_test_scaled)\n",
        "\n",
        "print(classification_report(y_test, y_pred))"
      ]
    },
    {
      "cell_type": "markdown",
      "source": [
        "ANN"
      ],
      "metadata": {
        "id": "AOBow9RouvDN"
      }
    },
    {
      "cell_type": "code",
      "source": [
        "model = keras.Sequential([\n",
        "    layers.Dense(256, activation='relu', input_shape=[x_train.shape[1]]),\n",
        "    layers.BatchNormalization(),\n",
        "    layers.Dropout(0.5),\n",
        "    layers.Dense(128, activation='relu'),\n",
        "    layers.BatchNormalization(),\n",
        "    layers.Dropout(0.5),\n",
        "    layers.Dense(64, activation='relu'),\n",
        "    layers.BatchNormalization(),\n",
        "    layers.Dropout(0.5),\n",
        "    layers.Dense(32, activation='relu'),\n",
        "    layers.BatchNormalization(),\n",
        "    layers.Dropout(0.5),\n",
        "    layers.Dense(1, activation='sigmoid')\n",
        "])\n",
        "\n",
        "model.compile(optimizer=keras.optimizers.Adam(learning_rate=0.001), loss='binary_crossentropy', metrics=['accuracy'])\n",
        "\n",
        "early_stopping = callbacks.EarlyStopping(monitor='val_loss', patience=5, restore_best_weights=True)\n",
        "\n",
        "history = model.fit(x_train_scaled, y_train, epochs=15, batch_size=64, validation_split=0.2, callbacks=[early_stopping])"
      ],
      "metadata": {
        "colab": {
          "base_uri": "https://localhost:8080/"
        },
        "id": "bbOZLTthu9Wk",
        "outputId": "c662b489-dc77-46c9-85e3-6c17f43df673"
      },
      "execution_count": null,
      "outputs": [
        {
          "output_type": "stream",
          "name": "stderr",
          "text": [
            "/usr/local/lib/python3.10/dist-packages/keras/src/layers/core/dense.py:87: UserWarning: Do not pass an `input_shape`/`input_dim` argument to a layer. When using Sequential models, prefer using an `Input(shape)` object as the first layer in the model instead.\n",
            "  super().__init__(activity_regularizer=activity_regularizer, **kwargs)\n"
          ]
        },
        {
          "output_type": "stream",
          "name": "stdout",
          "text": [
            "Epoch 1/15\n",
            "\u001b[1m3198/3198\u001b[0m \u001b[32m━━━━━━━━━━━━━━━━━━━━\u001b[0m\u001b[37m\u001b[0m \u001b[1m27s\u001b[0m 7ms/step - accuracy: 0.8428 - loss: 0.3981 - val_accuracy: 0.9151 - val_loss: 0.2338\n",
            "Epoch 2/15\n",
            "\u001b[1m3198/3198\u001b[0m \u001b[32m━━━━━━━━━━━━━━━━━━━━\u001b[0m\u001b[37m\u001b[0m \u001b[1m40s\u001b[0m 7ms/step - accuracy: 0.9146 - loss: 0.2399 - val_accuracy: 0.9154 - val_loss: 0.2301\n",
            "Epoch 3/15\n",
            "\u001b[1m3198/3198\u001b[0m \u001b[32m━━━━━━━━━━━━━━━━━━━━\u001b[0m\u001b[37m\u001b[0m \u001b[1m44s\u001b[0m 8ms/step - accuracy: 0.9151 - loss: 0.2373 - val_accuracy: 0.9160 - val_loss: 0.2283\n",
            "Epoch 4/15\n",
            "\u001b[1m3198/3198\u001b[0m \u001b[32m━━━━━━━━━━━━━━━━━━━━\u001b[0m\u001b[37m\u001b[0m \u001b[1m21s\u001b[0m 7ms/step - accuracy: 0.9153 - loss: 0.2326 - val_accuracy: 0.9157 - val_loss: 0.2282\n",
            "Epoch 5/15\n",
            "\u001b[1m3198/3198\u001b[0m \u001b[32m━━━━━━━━━━━━━━━━━━━━\u001b[0m\u001b[37m\u001b[0m \u001b[1m41s\u001b[0m 7ms/step - accuracy: 0.9150 - loss: 0.2314 - val_accuracy: 0.9158 - val_loss: 0.2281\n",
            "Epoch 6/15\n",
            "\u001b[1m3198/3198\u001b[0m \u001b[32m━━━━━━━━━━━━━━━━━━━━\u001b[0m\u001b[37m\u001b[0m \u001b[1m23s\u001b[0m 7ms/step - accuracy: 0.9143 - loss: 0.2342 - val_accuracy: 0.9157 - val_loss: 0.2283\n",
            "Epoch 7/15\n",
            "\u001b[1m3198/3198\u001b[0m \u001b[32m━━━━━━━━━━━━━━━━━━━━\u001b[0m\u001b[37m\u001b[0m \u001b[1m40s\u001b[0m 7ms/step - accuracy: 0.9155 - loss: 0.2302 - val_accuracy: 0.9155 - val_loss: 0.2280\n",
            "Epoch 8/15\n",
            "\u001b[1m3198/3198\u001b[0m \u001b[32m━━━━━━━━━━━━━━━━━━━━\u001b[0m\u001b[37m\u001b[0m \u001b[1m40s\u001b[0m 7ms/step - accuracy: 0.9151 - loss: 0.2304 - val_accuracy: 0.9157 - val_loss: 0.2281\n",
            "Epoch 9/15\n",
            "\u001b[1m3198/3198\u001b[0m \u001b[32m━━━━━━━━━━━━━━━━━━━━\u001b[0m\u001b[37m\u001b[0m \u001b[1m24s\u001b[0m 7ms/step - accuracy: 0.9142 - loss: 0.2317 - val_accuracy: 0.9156 - val_loss: 0.2277\n",
            "Epoch 10/15\n",
            "\u001b[1m3198/3198\u001b[0m \u001b[32m━━━━━━━━━━━━━━━━━━━━\u001b[0m\u001b[37m\u001b[0m \u001b[1m40s\u001b[0m 7ms/step - accuracy: 0.9155 - loss: 0.2303 - val_accuracy: 0.9158 - val_loss: 0.2276\n",
            "Epoch 11/15\n",
            "\u001b[1m3198/3198\u001b[0m \u001b[32m━━━━━━━━━━━━━━━━━━━━\u001b[0m\u001b[37m\u001b[0m \u001b[1m22s\u001b[0m 7ms/step - accuracy: 0.9154 - loss: 0.2293 - val_accuracy: 0.9153 - val_loss: 0.2278\n",
            "Epoch 12/15\n",
            "\u001b[1m3198/3198\u001b[0m \u001b[32m━━━━━━━━━━━━━━━━━━━━\u001b[0m\u001b[37m\u001b[0m \u001b[1m23s\u001b[0m 7ms/step - accuracy: 0.9148 - loss: 0.2304 - val_accuracy: 0.9151 - val_loss: 0.2282\n",
            "Epoch 13/15\n",
            "\u001b[1m3198/3198\u001b[0m \u001b[32m━━━━━━━━━━━━━━━━━━━━\u001b[0m\u001b[37m\u001b[0m \u001b[1m41s\u001b[0m 7ms/step - accuracy: 0.9155 - loss: 0.2308 - val_accuracy: 0.9157 - val_loss: 0.2275\n",
            "Epoch 14/15\n",
            "\u001b[1m3198/3198\u001b[0m \u001b[32m━━━━━━━━━━━━━━━━━━━━\u001b[0m\u001b[37m\u001b[0m \u001b[1m39s\u001b[0m 7ms/step - accuracy: 0.9138 - loss: 0.2328 - val_accuracy: 0.9158 - val_loss: 0.2277\n",
            "Epoch 15/15\n",
            "\u001b[1m3198/3198\u001b[0m \u001b[32m━━━━━━━━━━━━━━━━━━━━\u001b[0m\u001b[37m\u001b[0m \u001b[1m43s\u001b[0m 7ms/step - accuracy: 0.9157 - loss: 0.2300 - val_accuracy: 0.9155 - val_loss: 0.2274\n"
          ]
        }
      ]
    },
    {
      "cell_type": "code",
      "source": [
        "test_loss, test_accuracy = model.evaluate(x_test_scaled, y_test)\n",
        "print(f'Test Accuracy: {test_accuracy}')"
      ],
      "metadata": {
        "colab": {
          "base_uri": "https://localhost:8080/"
        },
        "id": "dEurSZcPvD_R",
        "outputId": "bffdd913-6f20-42f3-dcb8-bfb8753d7955"
      },
      "execution_count": null,
      "outputs": [
        {
          "output_type": "stream",
          "name": "stdout",
          "text": [
            "\u001b[1m1999/1999\u001b[0m \u001b[32m━━━━━━━━━━━━━━━━━━━━\u001b[0m\u001b[37m\u001b[0m \u001b[1m5s\u001b[0m 2ms/step - accuracy: 0.9117 - loss: 0.2370\n",
            "Test Accuracy: 0.9138041734695435\n"
          ]
        }
      ]
    },
    {
      "cell_type": "markdown",
      "metadata": {
        "id": "X_xDsWtoZ0dT"
      },
      "source": [
        "**SMOTE**"
      ]
    },
    {
      "cell_type": "code",
      "execution_count": null,
      "metadata": {
        "colab": {
          "base_uri": "https://localhost:8080/"
        },
        "id": "Q3mG39g2vtkF",
        "outputId": "8b7bb10e-07e0-436b-b007-9bab6c42131a"
      },
      "outputs": [
        {
          "output_type": "stream",
          "name": "stdout",
          "text": [
            "Original dataset shape: Counter({0: 234055, 1: 21781})\n",
            "Resampled dataset shape: Counter({0: 234055, 1: 234055})\n"
          ]
        }
      ],
      "source": [
        "smote = SMOTE(random_state=42)\n",
        "x_train_balanced, y_train_balanced = smote.fit_resample(x_train_scaled, y_train)\n",
        "\n",
        "from collections import Counter\n",
        "print(f'Original dataset shape: {Counter(y_train)}')\n",
        "print(f'Resampled dataset shape: {Counter(y_train_balanced)}')"
      ]
    },
    {
      "cell_type": "code",
      "source": [
        "import seaborn as sns\n",
        "\n",
        "# Original class distribution\n",
        "original_counts = Counter(y_train)\n",
        "balanced_counts = Counter(y_train_balanced)\n",
        "\n",
        "# Create DataFrames for plotting\n",
        "original_df = pd.DataFrame(original_counts.items(), columns=['Class', 'Count'])\n",
        "balanced_df = pd.DataFrame(balanced_counts.items(), columns=['Class', 'Count'])\n",
        "\n",
        "# Plotting function\n",
        "def plot_class_distribution(original_df, balanced_df):\n",
        "    plt.figure(figsize=(12, 6))\n",
        "\n",
        "    # Plot Original Distribution\n",
        "    plt.subplot(1, 2, 1)\n",
        "    sns.barplot(data=original_df, x='Class', y='Count', palette='viridis')\n",
        "    plt.title('Class Distribution Before SMOTE')\n",
        "    plt.xlabel('Class')\n",
        "    plt.ylabel('Count')\n",
        "\n",
        "    # Plot Balanced Distribution\n",
        "    plt.subplot(1, 2, 2)\n",
        "    sns.barplot(data=balanced_df, x='Class', y='Count', palette='viridis')\n",
        "    plt.title('Class Distribution After SMOTE')\n",
        "    plt.xlabel('Class')\n",
        "    plt.ylabel('Count')\n",
        "\n",
        "    plt.tight_layout()\n",
        "    plt.show()\n",
        "\n",
        "# Call the plotting function\n",
        "plot_class_distribution(original_df, balanced_df)"
      ],
      "metadata": {
        "colab": {
          "base_uri": "https://localhost:8080/",
          "height": 808
        },
        "id": "3eBCP5KsDiQ_",
        "outputId": "da6e6ba6-136b-4e36-8932-90c807175e38"
      },
      "execution_count": null,
      "outputs": [
        {
          "output_type": "stream",
          "name": "stderr",
          "text": [
            "<ipython-input-24-f280bf185f00>:17: FutureWarning: \n",
            "\n",
            "Passing `palette` without assigning `hue` is deprecated and will be removed in v0.14.0. Assign the `x` variable to `hue` and set `legend=False` for the same effect.\n",
            "\n",
            "  sns.barplot(data=original_df, x='Class', y='Count', palette='viridis')\n",
            "<ipython-input-24-f280bf185f00>:24: FutureWarning: \n",
            "\n",
            "Passing `palette` without assigning `hue` is deprecated and will be removed in v0.14.0. Assign the `x` variable to `hue` and set `legend=False` for the same effect.\n",
            "\n",
            "  sns.barplot(data=balanced_df, x='Class', y='Count', palette='viridis')\n"
          ]
        },
        {
          "output_type": "display_data",
          "data": {
            "text/plain": [
              "<Figure size 1200x600 with 2 Axes>"
            ],
            "image/png": "[encoded data removed]"
          },
          "metadata": {}
        }
      ]
    },
    {
      "cell_type": "code",
      "source": [
        "log_reg = LogisticRegression(penalty='l2')\n",
        "\n",
        "log_reg.fit(x_train_balanced, y_train_balanced)\n",
        "y_pred = log_reg.predict(x_test_scaled)\n",
        "\n",
        "print(classification_report(y_test, y_pred))"
      ],
      "metadata": {
        "colab": {
          "base_uri": "https://localhost:8080/"
        },
        "id": "sd8OXJXtiYF9",
        "outputId": "8835e24b-d003-466a-a879-e9ddddc690b1"
      },
      "execution_count": null,
      "outputs": [
        {
          "output_type": "stream",
          "name": "stdout",
          "text": [
            "              precision    recall  f1-score   support\n",
            "\n",
            "           0       0.97      0.73      0.84     58367\n",
            "           1       0.22      0.77      0.34      5592\n",
            "\n",
            "    accuracy                           0.74     63959\n",
            "   macro avg       0.59      0.75      0.59     63959\n",
            "weighted avg       0.91      0.74      0.79     63959\n",
            "\n"
          ]
        }
      ]
    },
    {
      "cell_type": "code",
      "source": [
        "knn = KNeighborsClassifier(n_neighbors=6)\n",
        "knn.fit(x_train_balanced, y_train_balanced)\n",
        "y_pred = knn.predict(x_test_scaled)\n",
        "\n",
        "print(classification_report(y_test, y_pred))"
      ],
      "metadata": {
        "colab": {
          "base_uri": "https://localhost:8080/"
        },
        "id": "NiO_XAVhixaQ",
        "outputId": "4672263e-981c-47aa-a64f-6a6f006c98e1"
      },
      "execution_count": null,
      "outputs": [
        {
          "output_type": "stream",
          "name": "stdout",
          "text": [
            "              precision    recall  f1-score   support\n",
            "\n",
            "           0       0.95      0.82      0.88     58367\n",
            "           1       0.21      0.51      0.30      5592\n",
            "\n",
            "    accuracy                           0.79     63959\n",
            "   macro avg       0.58      0.67      0.59     63959\n",
            "weighted avg       0.88      0.79      0.83     63959\n",
            "\n"
          ]
        }
      ]
    },
    {
      "cell_type": "code",
      "source": [
        "svm_model = SVC(kernel='linear', C=1.0, gamma='scale', random_state=42)\n",
        "svm_model.fit(x_train_balanced, y_train_balanced)\n",
        "y_pred = svm_model.predict(x_test_scaled)\n",
        "\n",
        "print(classification_report(y_test, y_pred))"
      ],
      "metadata": {
        "id": "JlbI2Gp4jCM9"
      },
      "execution_count": null,
      "outputs": []
    },
    {
      "cell_type": "code",
      "source": [
        "random_forest = RandomForestClassifier(n_estimators=100)\n",
        "random_forest.fit(x_train_balanced, y_train_balanced)\n",
        "y_pred = random_forest.predict(x_test_scaled)\n",
        "\n",
        "print(classification_report(y_test, y_pred))"
      ],
      "metadata": {
        "colab": {
          "base_uri": "https://localhost:8080/"
        },
        "id": "FGiRFT8_jPqU",
        "outputId": "e8ba42c7-9922-477a-cd67-26f999a69e54"
      },
      "execution_count": null,
      "outputs": [
        {
          "output_type": "stream",
          "name": "stdout",
          "text": [
            "              precision    recall  f1-score   support\n",
            "\n",
            "           0       0.93      0.95      0.94     58367\n",
            "           1       0.30      0.23      0.26      5592\n",
            "\n",
            "    accuracy                           0.89     63959\n",
            "   macro avg       0.61      0.59      0.60     63959\n",
            "weighted avg       0.87      0.89      0.88     63959\n",
            "\n"
          ]
        }
      ]
    },
    {
      "cell_type": "code",
      "source": [
        "xgb_model = XGBClassifier(learning_rate=0.05, n_estimators=100, random_state=42)\n",
        "xgb_model.fit(x_train_balanced, y_train_balanced)\n",
        "y_pred = xgb_model.predict(x_test_scaled)\n",
        "\n",
        "print(classification_report(y_test, y_pred))"
      ],
      "metadata": {
        "colab": {
          "base_uri": "https://localhost:8080/"
        },
        "id": "StGzDn83jTna",
        "outputId": "0f0d36ff-ee8d-49f6-aa0f-7c6a9f8a9b92"
      },
      "execution_count": null,
      "outputs": [
        {
          "output_type": "stream",
          "name": "stdout",
          "text": [
            "              precision    recall  f1-score   support\n",
            "\n",
            "           0       0.95      0.88      0.92     58367\n",
            "           1       0.29      0.50      0.37      5592\n",
            "\n",
            "    accuracy                           0.85     63959\n",
            "   macro avg       0.62      0.69      0.64     63959\n",
            "weighted avg       0.89      0.85      0.87     63959\n",
            "\n"
          ]
        }
      ]
    },
    {
      "cell_type": "markdown",
      "source": [
        "**ANN**"
      ],
      "metadata": {
        "id": "eRFW3WNQqagE"
      }
    },
    {
      "cell_type": "code",
      "execution_count": null,
      "metadata": {
        "colab": {
          "base_uri": "https://localhost:8080/"
        },
        "id": "aihAHjlwlRY7",
        "outputId": "29808e7b-8230-4feb-f1aa-1bebdd61ad50"
      },
      "outputs": [
        {
          "output_type": "stream",
          "name": "stderr",
          "text": [
            "/usr/local/lib/python3.10/dist-packages/keras/src/layers/core/dense.py:87: UserWarning: Do not pass an `input_shape`/`input_dim` argument to a layer. When using Sequential models, prefer using an `Input(shape)` object as the first layer in the model instead.\n",
            "  super().__init__(activity_regularizer=activity_regularizer, **kwargs)\n"
          ]
        },
        {
          "output_type": "stream",
          "name": "stdout",
          "text": [
            "Epoch 1/15\n",
            "\u001b[1m5852/5852\u001b[0m \u001b[32m━━━━━━━━━━━━━━━━━━━━\u001b[0m\u001b[37m\u001b[0m \u001b[1m44s\u001b[0m 7ms/step - accuracy: 0.7285 - loss: 0.5423 - val_accuracy: 0.7282 - val_loss: 0.6316\n",
            "Epoch 2/15\n",
            "\u001b[1m5852/5852\u001b[0m \u001b[32m━━━━━━━━━━━━━━━━━━━━\u001b[0m\u001b[37m\u001b[0m \u001b[1m40s\u001b[0m 7ms/step - accuracy: 0.7639 - loss: 0.4816 - val_accuracy: 0.6970 - val_loss: 0.6364\n",
            "Epoch 3/15\n",
            "\u001b[1m5852/5852\u001b[0m \u001b[32m━━━━━━━━━━━━━━━━━━━━\u001b[0m\u001b[37m\u001b[0m \u001b[1m40s\u001b[0m 7ms/step - accuracy: 0.7664 - loss: 0.4768 - val_accuracy: 0.7088 - val_loss: 0.6292\n",
            "Epoch 4/15\n",
            "\u001b[1m5852/5852\u001b[0m \u001b[32m━━━━━━━━━━━━━━━━━━━━\u001b[0m\u001b[37m\u001b[0m \u001b[1m39s\u001b[0m 7ms/step - accuracy: 0.7695 - loss: 0.4740 - val_accuracy: 0.7136 - val_loss: 0.6089\n",
            "Epoch 5/15\n",
            "\u001b[1m5852/5852\u001b[0m \u001b[32m━━━━━━━━━━━━━━━━━━━━\u001b[0m\u001b[37m\u001b[0m \u001b[1m43s\u001b[0m 7ms/step - accuracy: 0.7714 - loss: 0.4717 - val_accuracy: 0.7368 - val_loss: 0.6134\n",
            "Epoch 6/15\n",
            "\u001b[1m5852/5852\u001b[0m \u001b[32m━━━━━━━━━━━━━━━━━━━━\u001b[0m\u001b[37m\u001b[0m \u001b[1m41s\u001b[0m 7ms/step - accuracy: 0.7709 - loss: 0.4716 - val_accuracy: 0.7118 - val_loss: 0.6183\n",
            "Epoch 7/15\n",
            "\u001b[1m5852/5852\u001b[0m \u001b[32m━━━━━━━━━━━━━━━━━━━━\u001b[0m\u001b[37m\u001b[0m \u001b[1m82s\u001b[0m 7ms/step - accuracy: 0.7733 - loss: 0.4689 - val_accuracy: 0.7370 - val_loss: 0.5963\n",
            "Epoch 8/15\n",
            "\u001b[1m5852/5852\u001b[0m \u001b[32m━━━━━━━━━━━━━━━━━━━━\u001b[0m\u001b[37m\u001b[0m \u001b[1m79s\u001b[0m 7ms/step - accuracy: 0.7737 - loss: 0.4686 - val_accuracy: 0.7292 - val_loss: 0.5949\n",
            "Epoch 9/15\n",
            "\u001b[1m5852/5852\u001b[0m \u001b[32m━━━━━━━━━━━━━━━━━━━━\u001b[0m\u001b[37m\u001b[0m \u001b[1m41s\u001b[0m 7ms/step - accuracy: 0.7748 - loss: 0.4651 - val_accuracy: 0.7062 - val_loss: 0.6244\n",
            "Epoch 10/15\n",
            "\u001b[1m5852/5852\u001b[0m \u001b[32m━━━━━━━━━━━━━━━━━━━━\u001b[0m\u001b[37m\u001b[0m \u001b[1m41s\u001b[0m 7ms/step - accuracy: 0.7745 - loss: 0.4665 - val_accuracy: 0.7175 - val_loss: 0.6259\n",
            "Epoch 11/15\n",
            "\u001b[1m5852/5852\u001b[0m \u001b[32m━━━━━━━━━━━━━━━━━━━━\u001b[0m\u001b[37m\u001b[0m \u001b[1m40s\u001b[0m 7ms/step - accuracy: 0.7727 - loss: 0.4667 - val_accuracy: 0.7332 - val_loss: 0.6063\n",
            "Epoch 12/15\n",
            "\u001b[1m5852/5852\u001b[0m \u001b[32m━━━━━━━━━━━━━━━━━━━━\u001b[0m\u001b[37m\u001b[0m \u001b[1m39s\u001b[0m 7ms/step - accuracy: 0.7757 - loss: 0.4649 - val_accuracy: 0.6971 - val_loss: 0.6114\n",
            "Epoch 13/15\n",
            "\u001b[1m5852/5852\u001b[0m \u001b[32m━━━━━━━━━━━━━━━━━━━━\u001b[0m\u001b[37m\u001b[0m \u001b[1m43s\u001b[0m 7ms/step - accuracy: 0.7746 - loss: 0.4649 - val_accuracy: 0.6868 - val_loss: 0.6354\n"
          ]
        }
      ],
      "source": [
        "model = keras.Sequential([\n",
        "    layers.Dense(256, activation='relu', input_shape=[x_train.shape[1]]),\n",
        "    layers.BatchNormalization(),\n",
        "    layers.Dropout(0.5),\n",
        "    layers.Dense(128, activation='relu'),\n",
        "    layers.BatchNormalization(),\n",
        "    layers.Dropout(0.5),\n",
        "    layers.Dense(64, activation='relu'),\n",
        "    layers.BatchNormalization(),\n",
        "    layers.Dropout(0.5),\n",
        "    layers.Dense(32, activation='relu'),\n",
        "    layers.BatchNormalization(),\n",
        "    layers.Dropout(0.5),\n",
        "    layers.Dense(1, activation='sigmoid')\n",
        "])\n",
        "\n",
        "model.compile(optimizer=keras.optimizers.Adam(learning_rate=0.001), loss='binary_crossentropy', metrics=['accuracy'])\n",
        "\n",
        "early_stopping = callbacks.EarlyStopping(monitor='val_loss', patience=5, restore_best_weights=True)\n",
        "\n",
        "history = model.fit(x_train_balanced, y_train_balanced, epochs=15, batch_size=64, validation_split=0.2, callbacks=[early_stopping])"
      ]
    },
    {
      "cell_type": "code",
      "execution_count": null,
      "metadata": {
        "colab": {
          "base_uri": "https://localhost:8080/"
        },
        "id": "Erh0ek7Tl_hi",
        "outputId": "54353588-5d56-42a2-ba77-ca104b4e318c"
      },
      "outputs": [
        {
          "output_type": "stream",
          "name": "stdout",
          "text": [
            "\u001b[1m1999/1999\u001b[0m \u001b[32m━━━━━━━━━━━━━━━━━━━━\u001b[0m\u001b[37m\u001b[0m \u001b[1m6s\u001b[0m 3ms/step - accuracy: 0.8000 - loss: 0.3895\n",
            "Test Accuracy: 0.8030144572257996\n"
          ]
        }
      ],
      "source": [
        "test_loss, test_accuracy = model.evaluate(x_test_scaled, y_test)\n",
        "print(f'Test Accuracy: {test_accuracy}')"
      ]
    }
  ],
  "metadata": {
    "colab": {
      "provenance": []
    },
    "kernelspec": {
      "display_name": "Python 3",
      "name": "python3"
    },
    "language_info": {
      "name": "python"
    }
  },
  "nbformat": 4,
  "nbformat_minor": 0
}